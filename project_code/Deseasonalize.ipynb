{
 "cells": [
  {
   "cell_type": "code",
   "execution_count": 1,
   "metadata": {
    "collapsed": false
   },
   "outputs": [],
   "source": [
    "using DataFrames;\n",
    "#Pkg.update(\"Combinatorics\")\n",
    "using Combinatorics"
   ]
  },
  {
   "cell_type": "code",
   "execution_count": 2,
   "metadata": {
    "collapsed": false
   },
   "outputs": [
    {
     "data": {
      "text/html": [
       "<table class=\"data-frame\"><tr><th></th><th>Month</th><th>Text_General_Code</th><th>x1</th><th>Year</th><th>Unemployment</th><th>Child_mortality</th><th>hospital_ambulization_rate</th><th>Cancer_mortality</th><th>Days_good_air_quality</th><th>Homicide_mortality_rate</th><th>Suicide_mortality_rate</th><th>Theft</th><th>All_Other_Offenses</th><th>Other_Assaults</th><th>Vandalism</th><th>Narcotic</th><th>Burglary</th><th>Fraud</th><th>Retrieving</th><th>Robbery</th><th>Aggravated_Assault</th><th>Driving_Under_The_Influcence</th><th>Disorderly_Conduct</th><th>Weapon_Violations</th><th>Other_Sex_Offenses</th><th>Prostitution</th><th>Rape</th><th>Drinking_Violation</th><th>Vagrancy_Loitering</th><th>Arson</th><th>Forgery_Counterfeiting</th><th>Embezzlement</th><th>Homicide</th><th>Offenses_Against_Family_Children</th><th>Gambling_Violations</th><th>Receiving_Stolen_Property</th><th>Temperature_Max</th><th>Temperature_Min</th><th>Temperature_Avg</th><th>Temperature_Departure</th><th>HDD</th><th>CDD</th><th>Precipitation</th><th>New_Snow</th><th>Snow_Depth</th></tr><tr><th>1</th><td>2006-01-01T00:00:00</td><td>All Other Offenses</td><td>4252</td><td>2006</td><td>0.062</td><td>87.5</td><td>1608.9</td><td>228.1</td><td>154</td><td>24.4</td><td>9.0</td><td>0</td><td>1</td><td>0</td><td>0</td><td>0</td><td>0</td><td>0</td><td>0</td><td>0</td><td>0</td><td>0</td><td>0</td><td>0</td><td>0</td><td>0</td><td>0</td><td>0</td><td>0</td><td>0</td><td>0</td><td>0</td><td>0</td><td>0</td><td>0</td><td>0</td><td>49.12903226</td><td>32.35483871</td><td>40.74193548</td><td>7.793548387</td><td>23.96774194</td><td>0.0</td><td>0.14</td><td>0.012903226</td><td>0.0</td></tr><tr><th>2</th><td>2006-01-01T00:00:00</td><td>Arson</td><td>44</td><td>2006</td><td>0.062</td><td>87.5</td><td>1608.9</td><td>228.1</td><td>154</td><td>24.4</td><td>9.0</td><td>0</td><td>0</td><td>0</td><td>0</td><td>0</td><td>0</td><td>0</td><td>0</td><td>0</td><td>0</td><td>0</td><td>0</td><td>0</td><td>0</td><td>0</td><td>0</td><td>0</td><td>0</td><td>1</td><td>0</td><td>0</td><td>0</td><td>0</td><td>0</td><td>0</td><td>49.12903226</td><td>32.35483871</td><td>40.74193548</td><td>7.793548387</td><td>23.96774194</td><td>0.0</td><td>0.14</td><td>0.012903226</td><td>0.0</td></tr><tr><th>3</th><td>2006-01-01T00:00:00</td><td>DRIVING UNDER THE INFLUENCE</td><td>425</td><td>2006</td><td>0.062</td><td>87.5</td><td>1608.9</td><td>228.1</td><td>154</td><td>24.4</td><td>9.0</td><td>0</td><td>0</td><td>0</td><td>0</td><td>0</td><td>0</td><td>0</td><td>0</td><td>0</td><td>0</td><td>1</td><td>0</td><td>0</td><td>0</td><td>0</td><td>0</td><td>0</td><td>0</td><td>0</td><td>0</td><td>0</td><td>0</td><td>0</td><td>0</td><td>0</td><td>49.12903226</td><td>32.35483871</td><td>40.74193548</td><td>7.793548387</td><td>23.96774194</td><td>0.0</td><td>0.14</td><td>0.012903226</td><td>0.0</td></tr><tr><th>4</th><td>2006-01-01T00:00:00</td><td>Disorderly Conduct</td><td>381</td><td>2006</td><td>0.062</td><td>87.5</td><td>1608.9</td><td>228.1</td><td>154</td><td>24.4</td><td>9.0</td><td>0</td><td>0</td><td>0</td><td>0</td><td>0</td><td>0</td><td>0</td><td>0</td><td>0</td><td>0</td><td>0</td><td>1</td><td>0</td><td>0</td><td>0</td><td>0</td><td>0</td><td>0</td><td>0</td><td>0</td><td>0</td><td>0</td><td>0</td><td>0</td><td>0</td><td>49.12903226</td><td>32.35483871</td><td>40.74193548</td><td>7.793548387</td><td>23.96774194</td><td>0.0</td><td>0.14</td><td>0.012903226</td><td>0.0</td></tr><tr><th>5</th><td>2006-01-01T00:00:00</td><td>Embezzlement</td><td>40</td><td>2006</td><td>0.062</td><td>87.5</td><td>1608.9</td><td>228.1</td><td>154</td><td>24.4</td><td>9.0</td><td>0</td><td>0</td><td>0</td><td>0</td><td>0</td><td>0</td><td>0</td><td>0</td><td>0</td><td>0</td><td>0</td><td>0</td><td>0</td><td>0</td><td>0</td><td>0</td><td>0</td><td>0</td><td>0</td><td>0</td><td>1</td><td>0</td><td>0</td><td>0</td><td>0</td><td>49.12903226</td><td>32.35483871</td><td>40.74193548</td><td>7.793548387</td><td>23.96774194</td><td>0.0</td><td>0.14</td><td>0.012903226</td><td>0.0</td></tr><tr><th>6</th><td>2006-01-01T00:00:00</td><td>Forgery and Counterfeiting</td><td>68</td><td>2006</td><td>0.062</td><td>87.5</td><td>1608.9</td><td>228.1</td><td>154</td><td>24.4</td><td>9.0</td><td>0</td><td>0</td><td>0</td><td>0</td><td>0</td><td>0</td><td>0</td><td>0</td><td>0</td><td>0</td><td>0</td><td>0</td><td>0</td><td>0</td><td>0</td><td>0</td><td>0</td><td>0</td><td>0</td><td>1</td><td>0</td><td>0</td><td>0</td><td>0</td><td>0</td><td>49.12903226</td><td>32.35483871</td><td>40.74193548</td><td>7.793548387</td><td>23.96774194</td><td>0.0</td><td>0.14</td><td>0.012903226</td><td>0.0</td></tr><tr><th>7</th><td>2006-01-01T00:00:00</td><td>Fraud</td><td>777</td><td>2006</td><td>0.062</td><td>87.5</td><td>1608.9</td><td>228.1</td><td>154</td><td>24.4</td><td>9.0</td><td>0</td><td>0</td><td>0</td><td>0</td><td>0</td><td>0</td><td>1</td><td>0</td><td>0</td><td>0</td><td>0</td><td>0</td><td>0</td><td>0</td><td>0</td><td>0</td><td>0</td><td>0</td><td>0</td><td>0</td><td>0</td><td>0</td><td>0</td><td>0</td><td>0</td><td>49.12903226</td><td>32.35483871</td><td>40.74193548</td><td>7.793548387</td><td>23.96774194</td><td>0.0</td><td>0.14</td><td>0.012903226</td><td>0.0</td></tr><tr><th>8</th><td>2006-01-01T00:00:00</td><td>Gambling Violations</td><td>9</td><td>2006</td><td>0.062</td><td>87.5</td><td>1608.9</td><td>228.1</td><td>154</td><td>24.4</td><td>9.0</td><td>0</td><td>0</td><td>0</td><td>0</td><td>0</td><td>0</td><td>0</td><td>0</td><td>0</td><td>0</td><td>0</td><td>0</td><td>0</td><td>0</td><td>0</td><td>0</td><td>0</td><td>0</td><td>0</td><td>0</td><td>0</td><td>0</td><td>0</td><td>1</td><td>0</td><td>49.12903226</td><td>32.35483871</td><td>40.74193548</td><td>7.793548387</td><td>23.96774194</td><td>0.0</td><td>0.14</td><td>0.012903226</td><td>0.0</td></tr><tr><th>9</th><td>2006-01-01T00:00:00</td><td>Narcotic / Drug Law Violations</td><td>1195</td><td>2006</td><td>0.062</td><td>87.5</td><td>1608.9</td><td>228.1</td><td>154</td><td>24.4</td><td>9.0</td><td>0</td><td>0</td><td>0</td><td>0</td><td>1</td><td>0</td><td>0</td><td>0</td><td>0</td><td>0</td><td>0</td><td>0</td><td>0</td><td>0</td><td>0</td><td>0</td><td>0</td><td>0</td><td>0</td><td>0</td><td>0</td><td>0</td><td>0</td><td>0</td><td>0</td><td>49.12903226</td><td>32.35483871</td><td>40.74193548</td><td>7.793548387</td><td>23.96774194</td><td>0.0</td><td>0.14</td><td>0.012903226</td><td>0.0</td></tr><tr><th>10</th><td>2006-01-01T00:00:00</td><td>Offenses Against Family and Children</td><td>20</td><td>2006</td><td>0.062</td><td>87.5</td><td>1608.9</td><td>228.1</td><td>154</td><td>24.4</td><td>9.0</td><td>0</td><td>0</td><td>0</td><td>0</td><td>0</td><td>0</td><td>0</td><td>0</td><td>0</td><td>0</td><td>0</td><td>0</td><td>0</td><td>0</td><td>0</td><td>0</td><td>0</td><td>0</td><td>0</td><td>0</td><td>0</td><td>0</td><td>1</td><td>0</td><td>0</td><td>49.12903226</td><td>32.35483871</td><td>40.74193548</td><td>7.793548387</td><td>23.96774194</td><td>0.0</td><td>0.14</td><td>0.012903226</td><td>0.0</td></tr><tr><th>11</th><td>2006-01-01T00:00:00</td><td>Other Assaults</td><td>2160</td><td>2006</td><td>0.062</td><td>87.5</td><td>1608.9</td><td>228.1</td><td>154</td><td>24.4</td><td>9.0</td><td>0</td><td>0</td><td>1</td><td>0</td><td>0</td><td>0</td><td>0</td><td>0</td><td>0</td><td>0</td><td>0</td><td>0</td><td>0</td><td>0</td><td>0</td><td>0</td><td>0</td><td>0</td><td>0</td><td>0</td><td>0</td><td>0</td><td>0</td><td>0</td><td>0</td><td>49.12903226</td><td>32.35483871</td><td>40.74193548</td><td>7.793548387</td><td>23.96774194</td><td>0.0</td><td>0.14</td><td>0.012903226</td><td>0.0</td></tr><tr><th>12</th><td>2006-01-01T00:00:00</td><td>Other Sex Offenses (Not Commercialized)</td><td>153</td><td>2006</td><td>0.062</td><td>87.5</td><td>1608.9</td><td>228.1</td><td>154</td><td>24.4</td><td>9.0</td><td>0</td><td>0</td><td>0</td><td>0</td><td>0</td><td>0</td><td>0</td><td>0</td><td>0</td><td>0</td><td>0</td><td>0</td><td>0</td><td>1</td><td>0</td><td>0</td><td>0</td><td>0</td><td>0</td><td>0</td><td>0</td><td>0</td><td>0</td><td>0</td><td>0</td><td>49.12903226</td><td>32.35483871</td><td>40.74193548</td><td>7.793548387</td><td>23.96774194</td><td>0.0</td><td>0.14</td><td>0.012903226</td><td>0.0</td></tr><tr><th>13</th><td>2006-01-01T00:00:00</td><td>Prostitution and Commercialized Vice</td><td>98</td><td>2006</td><td>0.062</td><td>87.5</td><td>1608.9</td><td>228.1</td><td>154</td><td>24.4</td><td>9.0</td><td>0</td><td>0</td><td>0</td><td>0</td><td>0</td><td>0</td><td>0</td><td>0</td><td>0</td><td>0</td><td>0</td><td>0</td><td>0</td><td>0</td><td>1</td><td>0</td><td>0</td><td>0</td><td>0</td><td>0</td><td>0</td><td>0</td><td>0</td><td>0</td><td>0</td><td>49.12903226</td><td>32.35483871</td><td>40.74193548</td><td>7.793548387</td><td>23.96774194</td><td>0.0</td><td>0.14</td><td>0.012903226</td><td>0.0</td></tr><tr><th>14</th><td>2006-01-01T00:00:00</td><td>Rape</td><td>96</td><td>2006</td><td>0.062</td><td>87.5</td><td>1608.9</td><td>228.1</td><td>154</td><td>24.4</td><td>9.0</td><td>0</td><td>0</td><td>0</td><td>0</td><td>0</td><td>0</td><td>0</td><td>0</td><td>0</td><td>0</td><td>0</td><td>0</td><td>0</td><td>0</td><td>0</td><td>1</td><td>0</td><td>0</td><td>0</td><td>0</td><td>0</td><td>0</td><td>0</td><td>0</td><td>0</td><td>49.12903226</td><td>32.35483871</td><td>40.74193548</td><td>7.793548387</td><td>23.96774194</td><td>0.0</td><td>0.14</td><td>0.012903226</td><td>0.0</td></tr><tr><th>15</th><td>2006-01-01T00:00:00</td><td>Receiving Stolen Property</td><td>14</td><td>2006</td><td>0.062</td><td>87.5</td><td>1608.9</td><td>228.1</td><td>154</td><td>24.4</td><td>9.0</td><td>0</td><td>0</td><td>0</td><td>0</td><td>0</td><td>0</td><td>0</td><td>0</td><td>0</td><td>0</td><td>0</td><td>0</td><td>0</td><td>0</td><td>0</td><td>0</td><td>0</td><td>0</td><td>0</td><td>0</td><td>0</td><td>0</td><td>0</td><td>0</td><td>1</td><td>49.12903226</td><td>32.35483871</td><td>40.74193548</td><td>7.793548387</td><td>23.96774194</td><td>0.0</td><td>0.14</td><td>0.012903226</td><td>0.0</td></tr><tr><th>16</th><td>2006-01-01T00:00:00</td><td>Recovered Stolen Motor Vehicle</td><td>993</td><td>2006</td><td>0.062</td><td>87.5</td><td>1608.9</td><td>228.1</td><td>154</td><td>24.4</td><td>9.0</td><td>0</td><td>0</td><td>0</td><td>0</td><td>0</td><td>0</td><td>0</td><td>1</td><td>0</td><td>0</td><td>0</td><td>0</td><td>0</td><td>0</td><td>0</td><td>0</td><td>0</td><td>0</td><td>0</td><td>0</td><td>0</td><td>0</td><td>0</td><td>0</td><td>0</td><td>49.12903226</td><td>32.35483871</td><td>40.74193548</td><td>7.793548387</td><td>23.96774194</td><td>0.0</td><td>0.14</td><td>0.012903226</td><td>0.0</td></tr><tr><th>17</th><td>2006-01-01T00:00:00</td><td>Vagrancy/Loitering</td><td>55</td><td>2006</td><td>0.062</td><td>87.5</td><td>1608.9</td><td>228.1</td><td>154</td><td>24.4</td><td>9.0</td><td>0</td><td>0</td><td>0</td><td>0</td><td>0</td><td>0</td><td>0</td><td>0</td><td>0</td><td>0</td><td>0</td><td>0</td><td>0</td><td>0</td><td>0</td><td>0</td><td>0</td><td>1</td><td>0</td><td>0</td><td>0</td><td>0</td><td>0</td><td>0</td><td>0</td><td>49.12903226</td><td>32.35483871</td><td>40.74193548</td><td>7.793548387</td><td>23.96774194</td><td>0.0</td><td>0.14</td><td>0.012903226</td><td>0.0</td></tr><tr><th>18</th><td>2006-01-01T00:00:00</td><td>Vandalism/Criminal Mischief</td><td>1895</td><td>2006</td><td>0.062</td><td>87.5</td><td>1608.9</td><td>228.1</td><td>154</td><td>24.4</td><td>9.0</td><td>0</td><td>0</td><td>0</td><td>1</td><td>0</td><td>0</td><td>0</td><td>0</td><td>0</td><td>0</td><td>0</td><td>0</td><td>0</td><td>0</td><td>0</td><td>0</td><td>0</td><td>0</td><td>0</td><td>0</td><td>0</td><td>0</td><td>0</td><td>0</td><td>0</td><td>49.12903226</td><td>32.35483871</td><td>40.74193548</td><td>7.793548387</td><td>23.96774194</td><td>0.0</td><td>0.14</td><td>0.012903226</td><td>0.0</td></tr><tr><th>19</th><td>2006-01-01T00:00:00</td><td>Weapon Violations</td><td>215</td><td>2006</td><td>0.062</td><td>87.5</td><td>1608.9</td><td>228.1</td><td>154</td><td>24.4</td><td>9.0</td><td>0</td><td>0</td><td>0</td><td>0</td><td>0</td><td>0</td><td>0</td><td>0</td><td>0</td><td>0</td><td>0</td><td>0</td><td>1</td><td>0</td><td>0</td><td>0</td><td>0</td><td>0</td><td>0</td><td>0</td><td>0</td><td>0</td><td>0</td><td>0</td><td>0</td><td>49.12903226</td><td>32.35483871</td><td>40.74193548</td><td>7.793548387</td><td>23.96774194</td><td>0.0</td><td>0.14</td><td>0.012903226</td><td>0.0</td></tr><tr><th>20</th><td>2006-01-01T00:00:00</td><td>Thefts</td><td>3644</td><td>2006</td><td>0.062</td><td>87.5</td><td>1608.9</td><td>228.1</td><td>154</td><td>24.4</td><td>9.0</td><td>1</td><td>0</td><td>0</td><td>0</td><td>0</td><td>0</td><td>0</td><td>0</td><td>0</td><td>0</td><td>0</td><td>0</td><td>0</td><td>0</td><td>0</td><td>0</td><td>0</td><td>0</td><td>0</td><td>0</td><td>0</td><td>0</td><td>0</td><td>0</td><td>0</td><td>49.12903226</td><td>32.35483871</td><td>40.74193548</td><td>7.793548387</td><td>23.96774194</td><td>0.0</td><td>0.14</td><td>0.012903226</td><td>0.0</td></tr><tr><th>21</th><td>2006-01-01T00:00:00</td><td>Burglary</td><td>906</td><td>2006</td><td>0.062</td><td>87.5</td><td>1608.9</td><td>228.1</td><td>154</td><td>24.4</td><td>9.0</td><td>0</td><td>0</td><td>0</td><td>0</td><td>0</td><td>1</td><td>0</td><td>0</td><td>0</td><td>0</td><td>0</td><td>0</td><td>0</td><td>0</td><td>0</td><td>0</td><td>0</td><td>0</td><td>0</td><td>0</td><td>0</td><td>0</td><td>0</td><td>0</td><td>0</td><td>49.12903226</td><td>32.35483871</td><td>40.74193548</td><td>7.793548387</td><td>23.96774194</td><td>0.0</td><td>0.14</td><td>0.012903226</td><td>0.0</td></tr><tr><th>22</th><td>2006-01-01T00:00:00</td><td>Robbery</td><td>869</td><td>2006</td><td>0.062</td><td>87.5</td><td>1608.9</td><td>228.1</td><td>154</td><td>24.4</td><td>9.0</td><td>0</td><td>0</td><td>0</td><td>0</td><td>0</td><td>0</td><td>0</td><td>0</td><td>1</td><td>0</td><td>0</td><td>0</td><td>0</td><td>0</td><td>0</td><td>0</td><td>0</td><td>0</td><td>0</td><td>0</td><td>0</td><td>0</td><td>0</td><td>0</td><td>0</td><td>49.12903226</td><td>32.35483871</td><td>40.74193548</td><td>7.793548387</td><td>23.96774194</td><td>0.0</td><td>0.14</td><td>0.012903226</td><td>0.0</td></tr><tr><th>23</th><td>2006-01-01T00:00:00</td><td>Drinking Violation</td><td>63</td><td>2006</td><td>0.062</td><td>87.5</td><td>1608.9</td><td>228.1</td><td>154</td><td>24.4</td><td>9.0</td><td>0</td><td>0</td><td>0</td><td>0</td><td>0</td><td>0</td><td>0</td><td>0</td><td>0</td><td>0</td><td>0</td><td>0</td><td>0</td><td>0</td><td>0</td><td>0</td><td>1</td><td>0</td><td>0</td><td>0</td><td>0</td><td>0</td><td>0</td><td>0</td><td>0</td><td>49.12903226</td><td>32.35483871</td><td>40.74193548</td><td>7.793548387</td><td>23.96774194</td><td>0.0</td><td>0.14</td><td>0.012903226</td><td>0.0</td></tr><tr><th>24</th><td>2006-01-01T00:00:00</td><td>Homicide</td><td>25</td><td>2006</td><td>0.062</td><td>87.5</td><td>1608.9</td><td>228.1</td><td>154</td><td>24.4</td><td>9.0</td><td>0</td><td>0</td><td>0</td><td>0</td><td>0</td><td>0</td><td>0</td><td>0</td><td>0</td><td>0</td><td>0</td><td>0</td><td>0</td><td>0</td><td>0</td><td>0</td><td>0</td><td>0</td><td>0</td><td>0</td><td>0</td><td>1</td><td>0</td><td>0</td><td>0</td><td>49.12903226</td><td>32.35483871</td><td>40.74193548</td><td>7.793548387</td><td>23.96774194</td><td>0.0</td><td>0.14</td><td>0.012903226</td><td>0.0</td></tr><tr><th>25</th><td>2006-01-01T00:00:00</td><td>Aggravated Assault</td><td>733</td><td>2006</td><td>0.062</td><td>87.5</td><td>1608.9</td><td>228.1</td><td>154</td><td>24.4</td><td>9.0</td><td>0</td><td>0</td><td>0</td><td>0</td><td>0</td><td>0</td><td>0</td><td>0</td><td>0</td><td>1</td><td>0</td><td>0</td><td>0</td><td>0</td><td>0</td><td>0</td><td>0</td><td>0</td><td>0</td><td>0</td><td>0</td><td>0</td><td>0</td><td>0</td><td>0</td><td>49.12903226</td><td>32.35483871</td><td>40.74193548</td><td>7.793548387</td><td>23.96774194</td><td>0.0</td><td>0.14</td><td>0.012903226</td><td>0.0</td></tr><tr><th>26</th><td>2006-02-01T00:00:00</td><td>All Other Offenses</td><td>3395</td><td>2006</td><td>0.062</td><td>87.5</td><td>1608.9</td><td>228.1</td><td>154</td><td>24.4</td><td>9.0</td><td>0</td><td>1</td><td>0</td><td>0</td><td>0</td><td>0</td><td>0</td><td>0</td><td>0</td><td>0</td><td>0</td><td>0</td><td>0</td><td>0</td><td>0</td><td>0</td><td>0</td><td>0</td><td>0</td><td>0</td><td>0</td><td>0</td><td>0</td><td>0</td><td>0</td><td>43.42857143</td><td>27.78571429</td><td>35.60714286</td><td>-0.15</td><td>29.14285714</td><td>0.0</td><td>0.053928571</td><td>0.428571429</td><td>0.964285714</td></tr><tr><th>27</th><td>2006-02-01T00:00:00</td><td>Arson</td><td>40</td><td>2006</td><td>0.062</td><td>87.5</td><td>1608.9</td><td>228.1</td><td>154</td><td>24.4</td><td>9.0</td><td>0</td><td>0</td><td>0</td><td>0</td><td>0</td><td>0</td><td>0</td><td>0</td><td>0</td><td>0</td><td>0</td><td>0</td><td>0</td><td>0</td><td>0</td><td>0</td><td>0</td><td>0</td><td>1</td><td>0</td><td>0</td><td>0</td><td>0</td><td>0</td><td>0</td><td>43.42857143</td><td>27.78571429</td><td>35.60714286</td><td>-0.15</td><td>29.14285714</td><td>0.0</td><td>0.053928571</td><td>0.428571429</td><td>0.964285714</td></tr><tr><th>28</th><td>2006-02-01T00:00:00</td><td>DRIVING UNDER THE INFLUENCE</td><td>395</td><td>2006</td><td>0.062</td><td>87.5</td><td>1608.9</td><td>228.1</td><td>154</td><td>24.4</td><td>9.0</td><td>0</td><td>0</td><td>0</td><td>0</td><td>0</td><td>0</td><td>0</td><td>0</td><td>0</td><td>0</td><td>1</td><td>0</td><td>0</td><td>0</td><td>0</td><td>0</td><td>0</td><td>0</td><td>0</td><td>0</td><td>0</td><td>0</td><td>0</td><td>0</td><td>0</td><td>43.42857143</td><td>27.78571429</td><td>35.60714286</td><td>-0.15</td><td>29.14285714</td><td>0.0</td><td>0.053928571</td><td>0.428571429</td><td>0.964285714</td></tr><tr><th>29</th><td>2006-02-01T00:00:00</td><td>Disorderly Conduct</td><td>288</td><td>2006</td><td>0.062</td><td>87.5</td><td>1608.9</td><td>228.1</td><td>154</td><td>24.4</td><td>9.0</td><td>0</td><td>0</td><td>0</td><td>0</td><td>0</td><td>0</td><td>0</td><td>0</td><td>0</td><td>0</td><td>0</td><td>1</td><td>0</td><td>0</td><td>0</td><td>0</td><td>0</td><td>0</td><td>0</td><td>0</td><td>0</td><td>0</td><td>0</td><td>0</td><td>0</td><td>43.42857143</td><td>27.78571429</td><td>35.60714286</td><td>-0.15</td><td>29.14285714</td><td>0.0</td><td>0.053928571</td><td>0.428571429</td><td>0.964285714</td></tr><tr><th>30</th><td>2006-02-01T00:00:00</td><td>Embezzlement</td><td>38</td><td>2006</td><td>0.062</td><td>87.5</td><td>1608.9</td><td>228.1</td><td>154</td><td>24.4</td><td>9.0</td><td>0</td><td>0</td><td>0</td><td>0</td><td>0</td><td>0</td><td>0</td><td>0</td><td>0</td><td>0</td><td>0</td><td>0</td><td>0</td><td>0</td><td>0</td><td>0</td><td>0</td><td>0</td><td>0</td><td>0</td><td>1</td><td>0</td><td>0</td><td>0</td><td>0</td><td>43.42857143</td><td>27.78571429</td><td>35.60714286</td><td>-0.15</td><td>29.14285714</td><td>0.0</td><td>0.053928571</td><td>0.428571429</td><td>0.964285714</td></tr><tr><th>&vellip;</th><td>&vellip;</td><td>&vellip;</td><td>&vellip;</td><td>&vellip;</td><td>&vellip;</td><td>&vellip;</td><td>&vellip;</td><td>&vellip;</td><td>&vellip;</td><td>&vellip;</td><td>&vellip;</td><td>&vellip;</td><td>&vellip;</td><td>&vellip;</td><td>&vellip;</td><td>&vellip;</td><td>&vellip;</td><td>&vellip;</td><td>&vellip;</td><td>&vellip;</td><td>&vellip;</td><td>&vellip;</td><td>&vellip;</td><td>&vellip;</td><td>&vellip;</td><td>&vellip;</td><td>&vellip;</td><td>&vellip;</td><td>&vellip;</td><td>&vellip;</td><td>&vellip;</td><td>&vellip;</td><td>&vellip;</td><td>&vellip;</td><td>&vellip;</td><td>&vellip;</td><td>&vellip;</td><td>&vellip;</td><td>&vellip;</td><td>&vellip;</td><td>&vellip;</td><td>&vellip;</td><td>&vellip;</td><td>&vellip;</td><td>&vellip;</td></tr></table>"
      ],
      "text/plain": [
       "1799×45 DataFrames.DataFrame\n",
       "│ Row  │ Month                 │ Text_General_Code                      │ x1   │\n",
       "├──────┼───────────────────────┼────────────────────────────────────────┼──────┤\n",
       "│ 1    │ \"2006-01-01T00:00:00\" │ \"All Other Offenses\"                   │ 4252 │\n",
       "│ 2    │ \"2006-01-01T00:00:00\" │ \"Arson\"                                │ 44   │\n",
       "│ 3    │ \"2006-01-01T00:00:00\" │ \"DRIVING UNDER THE INFLUENCE\"          │ 425  │\n",
       "│ 4    │ \"2006-01-01T00:00:00\" │ \"Disorderly Conduct\"                   │ 381  │\n",
       "│ 5    │ \"2006-01-01T00:00:00\" │ \"Embezzlement\"                         │ 40   │\n",
       "│ 6    │ \"2006-01-01T00:00:00\" │ \"Forgery and Counterfeiting\"           │ 68   │\n",
       "│ 7    │ \"2006-01-01T00:00:00\" │ \"Fraud\"                                │ 777  │\n",
       "│ 8    │ \"2006-01-01T00:00:00\" │ \"Gambling Violations\"                  │ 9    │\n",
       "│ 9    │ \"2006-01-01T00:00:00\" │ \"Narcotic / Drug Law Violations\"       │ 1195 │\n",
       "│ 10   │ \"2006-01-01T00:00:00\" │ \"Offenses Against Family and Children\" │ 20   │\n",
       "│ 11   │ \"2006-01-01T00:00:00\" │ \"Other Assaults\"                       │ 2160 │\n",
       "⋮\n",
       "│ 1788 │ \"2011-12-01T00:00:00\" │ \"Rape\"                                 │ 74   │\n",
       "│ 1789 │ \"2011-12-01T00:00:00\" │ \"Receiving Stolen Property\"            │ 6    │\n",
       "│ 1790 │ \"2011-12-01T00:00:00\" │ \"Recovered Stolen Motor Vehicle\"       │ 407  │\n",
       "│ 1791 │ \"2011-12-01T00:00:00\" │ \"Vagrancy/Loitering\"                   │ 40   │\n",
       "│ 1792 │ \"2011-12-01T00:00:00\" │ \"Vandalism/Criminal Mischief\"          │ 1398 │\n",
       "│ 1793 │ \"2011-12-01T00:00:00\" │ \"Weapon Violations\"                    │ 171  │\n",
       "│ 1794 │ \"2011-12-01T00:00:00\" │ \"Thefts\"                               │ 3780 │\n",
       "│ 1795 │ \"2011-12-01T00:00:00\" │ \"Burglary\"                             │ 1048 │\n",
       "│ 1796 │ \"2011-12-01T00:00:00\" │ \"Robbery\"                              │ 764  │\n",
       "│ 1797 │ \"2011-12-01T00:00:00\" │ \"Drinking Violation\"                   │ 35   │\n",
       "│ 1798 │ \"2011-12-01T00:00:00\" │ \"Homicide\"                             │ 26   │\n",
       "│ 1799 │ \"2011-12-01T00:00:00\" │ \"Aggravated Assault\"                   │ 656  │\n",
       "\n",
       "│ Row  │ Year │ Unemployment │ Child_mortality │ hospital_ambulization_rate │\n",
       "├──────┼──────┼──────────────┼─────────────────┼────────────────────────────┤\n",
       "│ 1    │ 2006 │ 0.062        │ 87.5            │ 1608.9                     │\n",
       "│ 2    │ 2006 │ 0.062        │ 87.5            │ 1608.9                     │\n",
       "│ 3    │ 2006 │ 0.062        │ 87.5            │ 1608.9                     │\n",
       "│ 4    │ 2006 │ 0.062        │ 87.5            │ 1608.9                     │\n",
       "│ 5    │ 2006 │ 0.062        │ 87.5            │ 1608.9                     │\n",
       "│ 6    │ 2006 │ 0.062        │ 87.5            │ 1608.9                     │\n",
       "│ 7    │ 2006 │ 0.062        │ 87.5            │ 1608.9                     │\n",
       "│ 8    │ 2006 │ 0.062        │ 87.5            │ 1608.9                     │\n",
       "│ 9    │ 2006 │ 0.062        │ 87.5            │ 1608.9                     │\n",
       "│ 10   │ 2006 │ 0.062        │ 87.5            │ 1608.9                     │\n",
       "│ 11   │ 2006 │ 0.062        │ 87.5            │ 1608.9                     │\n",
       "⋮\n",
       "│ 1788 │ 2011 │ 0.107        │ 65.5            │ 1315.9                     │\n",
       "│ 1789 │ 2011 │ 0.107        │ 65.5            │ 1315.9                     │\n",
       "│ 1790 │ 2011 │ 0.107        │ 65.5            │ 1315.9                     │\n",
       "│ 1791 │ 2011 │ 0.107        │ 65.5            │ 1315.9                     │\n",
       "│ 1792 │ 2011 │ 0.107        │ 65.5            │ 1315.9                     │\n",
       "│ 1793 │ 2011 │ 0.107        │ 65.5            │ 1315.9                     │\n",
       "│ 1794 │ 2011 │ 0.107        │ 65.5            │ 1315.9                     │\n",
       "│ 1795 │ 2011 │ 0.107        │ 65.5            │ 1315.9                     │\n",
       "│ 1796 │ 2011 │ 0.107        │ 65.5            │ 1315.9                     │\n",
       "│ 1797 │ 2011 │ 0.107        │ 65.5            │ 1315.9                     │\n",
       "│ 1798 │ 2011 │ 0.107        │ 65.5            │ 1315.9                     │\n",
       "│ 1799 │ 2011 │ 0.107        │ 65.5            │ 1315.9                     │\n",
       "\n",
       "│ Row  │ Cancer_mortality │ Days_good_air_quality │ Homicide_mortality_rate │\n",
       "├──────┼──────────────────┼───────────────────────┼─────────────────────────┤\n",
       "│ 1    │ 228.1            │ 154                   │ 24.4                    │\n",
       "│ 2    │ 228.1            │ 154                   │ 24.4                    │\n",
       "│ 3    │ 228.1            │ 154                   │ 24.4                    │\n",
       "│ 4    │ 228.1            │ 154                   │ 24.4                    │\n",
       "│ 5    │ 228.1            │ 154                   │ 24.4                    │\n",
       "│ 6    │ 228.1            │ 154                   │ 24.4                    │\n",
       "│ 7    │ 228.1            │ 154                   │ 24.4                    │\n",
       "│ 8    │ 228.1            │ 154                   │ 24.4                    │\n",
       "│ 9    │ 228.1            │ 154                   │ 24.4                    │\n",
       "│ 10   │ 228.1            │ 154                   │ 24.4                    │\n",
       "│ 11   │ 228.1            │ 154                   │ 24.4                    │\n",
       "⋮\n",
       "│ 1788 │ 214.7            │ 159                   │ 19.8                    │\n",
       "│ 1789 │ 214.7            │ 159                   │ 19.8                    │\n",
       "│ 1790 │ 214.7            │ 159                   │ 19.8                    │\n",
       "│ 1791 │ 214.7            │ 159                   │ 19.8                    │\n",
       "│ 1792 │ 214.7            │ 159                   │ 19.8                    │\n",
       "│ 1793 │ 214.7            │ 159                   │ 19.8                    │\n",
       "│ 1794 │ 214.7            │ 159                   │ 19.8                    │\n",
       "│ 1795 │ 214.7            │ 159                   │ 19.8                    │\n",
       "│ 1796 │ 214.7            │ 159                   │ 19.8                    │\n",
       "│ 1797 │ 214.7            │ 159                   │ 19.8                    │\n",
       "│ 1798 │ 214.7            │ 159                   │ 19.8                    │\n",
       "│ 1799 │ 214.7            │ 159                   │ 19.8                    │\n",
       "\n",
       "│ Row  │ Suicide_mortality_rate │ Theft │ All_Other_Offenses │ Other_Assaults │\n",
       "├──────┼────────────────────────┼───────┼────────────────────┼────────────────┤\n",
       "│ 1    │ 9.0                    │ 0     │ 1                  │ 0              │\n",
       "│ 2    │ 9.0                    │ 0     │ 0                  │ 0              │\n",
       "│ 3    │ 9.0                    │ 0     │ 0                  │ 0              │\n",
       "│ 4    │ 9.0                    │ 0     │ 0                  │ 0              │\n",
       "│ 5    │ 9.0                    │ 0     │ 0                  │ 0              │\n",
       "│ 6    │ 9.0                    │ 0     │ 0                  │ 0              │\n",
       "│ 7    │ 9.0                    │ 0     │ 0                  │ 0              │\n",
       "│ 8    │ 9.0                    │ 0     │ 0                  │ 0              │\n",
       "│ 9    │ 9.0                    │ 0     │ 0                  │ 0              │\n",
       "│ 10   │ 9.0                    │ 0     │ 0                  │ 0              │\n",
       "│ 11   │ 9.0                    │ 0     │ 0                  │ 1              │\n",
       "⋮\n",
       "│ 1788 │ 10.1                   │ 0     │ 0                  │ 0              │\n",
       "│ 1789 │ 10.1                   │ 0     │ 0                  │ 0              │\n",
       "│ 1790 │ 10.1                   │ 0     │ 0                  │ 0              │\n",
       "│ 1791 │ 10.1                   │ 0     │ 0                  │ 0              │\n",
       "│ 1792 │ 10.1                   │ 0     │ 0                  │ 0              │\n",
       "│ 1793 │ 10.1                   │ 0     │ 0                  │ 0              │\n",
       "│ 1794 │ 10.1                   │ 1     │ 0                  │ 0              │\n",
       "│ 1795 │ 10.1                   │ 0     │ 0                  │ 0              │\n",
       "│ 1796 │ 10.1                   │ 0     │ 0                  │ 0              │\n",
       "│ 1797 │ 10.1                   │ 0     │ 0                  │ 0              │\n",
       "│ 1798 │ 10.1                   │ 0     │ 0                  │ 0              │\n",
       "│ 1799 │ 10.1                   │ 0     │ 0                  │ 0              │\n",
       "\n",
       "│ Row  │ Vandalism │ Narcotic │ Burglary │ Fraud │ Retrieving │ Robbery │\n",
       "├──────┼───────────┼──────────┼──────────┼───────┼────────────┼─────────┤\n",
       "│ 1    │ 0         │ 0        │ 0        │ 0     │ 0          │ 0       │\n",
       "│ 2    │ 0         │ 0        │ 0        │ 0     │ 0          │ 0       │\n",
       "│ 3    │ 0         │ 0        │ 0        │ 0     │ 0          │ 0       │\n",
       "│ 4    │ 0         │ 0        │ 0        │ 0     │ 0          │ 0       │\n",
       "│ 5    │ 0         │ 0        │ 0        │ 0     │ 0          │ 0       │\n",
       "│ 6    │ 0         │ 0        │ 0        │ 0     │ 0          │ 0       │\n",
       "│ 7    │ 0         │ 0        │ 0        │ 1     │ 0          │ 0       │\n",
       "│ 8    │ 0         │ 0        │ 0        │ 0     │ 0          │ 0       │\n",
       "│ 9    │ 0         │ 1        │ 0        │ 0     │ 0          │ 0       │\n",
       "│ 10   │ 0         │ 0        │ 0        │ 0     │ 0          │ 0       │\n",
       "│ 11   │ 0         │ 0        │ 0        │ 0     │ 0          │ 0       │\n",
       "⋮\n",
       "│ 1788 │ 0         │ 0        │ 0        │ 0     │ 0          │ 0       │\n",
       "│ 1789 │ 0         │ 0        │ 0        │ 0     │ 0          │ 0       │\n",
       "│ 1790 │ 0         │ 0        │ 0        │ 0     │ 1          │ 0       │\n",
       "│ 1791 │ 0         │ 0        │ 0        │ 0     │ 0          │ 0       │\n",
       "│ 1792 │ 1         │ 0        │ 0        │ 0     │ 0          │ 0       │\n",
       "│ 1793 │ 0         │ 0        │ 0        │ 0     │ 0          │ 0       │\n",
       "│ 1794 │ 0         │ 0        │ 0        │ 0     │ 0          │ 0       │\n",
       "│ 1795 │ 0         │ 0        │ 1        │ 0     │ 0          │ 0       │\n",
       "│ 1796 │ 0         │ 0        │ 0        │ 0     │ 0          │ 1       │\n",
       "│ 1797 │ 0         │ 0        │ 0        │ 0     │ 0          │ 0       │\n",
       "│ 1798 │ 0         │ 0        │ 0        │ 0     │ 0          │ 0       │\n",
       "│ 1799 │ 0         │ 0        │ 0        │ 0     │ 0          │ 0       │\n",
       "\n",
       "│ Row  │ Aggravated_Assault │ Driving_Under_The_Influcence │\n",
       "├──────┼────────────────────┼──────────────────────────────┤\n",
       "│ 1    │ 0                  │ 0                            │\n",
       "│ 2    │ 0                  │ 0                            │\n",
       "│ 3    │ 0                  │ 1                            │\n",
       "│ 4    │ 0                  │ 0                            │\n",
       "│ 5    │ 0                  │ 0                            │\n",
       "│ 6    │ 0                  │ 0                            │\n",
       "│ 7    │ 0                  │ 0                            │\n",
       "│ 8    │ 0                  │ 0                            │\n",
       "│ 9    │ 0                  │ 0                            │\n",
       "│ 10   │ 0                  │ 0                            │\n",
       "│ 11   │ 0                  │ 0                            │\n",
       "⋮\n",
       "│ 1788 │ 0                  │ 0                            │\n",
       "│ 1789 │ 0                  │ 0                            │\n",
       "│ 1790 │ 0                  │ 0                            │\n",
       "│ 1791 │ 0                  │ 0                            │\n",
       "│ 1792 │ 0                  │ 0                            │\n",
       "│ 1793 │ 0                  │ 0                            │\n",
       "│ 1794 │ 0                  │ 0                            │\n",
       "│ 1795 │ 0                  │ 0                            │\n",
       "│ 1796 │ 0                  │ 0                            │\n",
       "│ 1797 │ 0                  │ 0                            │\n",
       "│ 1798 │ 0                  │ 0                            │\n",
       "│ 1799 │ 1                  │ 0                            │\n",
       "\n",
       "│ Row  │ Disorderly_Conduct │ Weapon_Violations │ Other_Sex_Offenses │\n",
       "├──────┼────────────────────┼───────────────────┼────────────────────┤\n",
       "│ 1    │ 0                  │ 0                 │ 0                  │\n",
       "│ 2    │ 0                  │ 0                 │ 0                  │\n",
       "│ 3    │ 0                  │ 0                 │ 0                  │\n",
       "│ 4    │ 1                  │ 0                 │ 0                  │\n",
       "│ 5    │ 0                  │ 0                 │ 0                  │\n",
       "│ 6    │ 0                  │ 0                 │ 0                  │\n",
       "│ 7    │ 0                  │ 0                 │ 0                  │\n",
       "│ 8    │ 0                  │ 0                 │ 0                  │\n",
       "│ 9    │ 0                  │ 0                 │ 0                  │\n",
       "│ 10   │ 0                  │ 0                 │ 0                  │\n",
       "│ 11   │ 0                  │ 0                 │ 0                  │\n",
       "⋮\n",
       "│ 1788 │ 0                  │ 0                 │ 0                  │\n",
       "│ 1789 │ 0                  │ 0                 │ 0                  │\n",
       "│ 1790 │ 0                  │ 0                 │ 0                  │\n",
       "│ 1791 │ 0                  │ 0                 │ 0                  │\n",
       "│ 1792 │ 0                  │ 0                 │ 0                  │\n",
       "│ 1793 │ 0                  │ 1                 │ 0                  │\n",
       "│ 1794 │ 0                  │ 0                 │ 0                  │\n",
       "│ 1795 │ 0                  │ 0                 │ 0                  │\n",
       "│ 1796 │ 0                  │ 0                 │ 0                  │\n",
       "│ 1797 │ 0                  │ 0                 │ 0                  │\n",
       "│ 1798 │ 0                  │ 0                 │ 0                  │\n",
       "│ 1799 │ 0                  │ 0                 │ 0                  │\n",
       "\n",
       "│ Row  │ Prostitution │ Rape │ Drinking_Violation │ Vagrancy_Loitering │ Arson │\n",
       "├──────┼──────────────┼──────┼────────────────────┼────────────────────┼───────┤\n",
       "│ 1    │ 0            │ 0    │ 0                  │ 0                  │ 0     │\n",
       "│ 2    │ 0            │ 0    │ 0                  │ 0                  │ 1     │\n",
       "│ 3    │ 0            │ 0    │ 0                  │ 0                  │ 0     │\n",
       "│ 4    │ 0            │ 0    │ 0                  │ 0                  │ 0     │\n",
       "│ 5    │ 0            │ 0    │ 0                  │ 0                  │ 0     │\n",
       "│ 6    │ 0            │ 0    │ 0                  │ 0                  │ 0     │\n",
       "│ 7    │ 0            │ 0    │ 0                  │ 0                  │ 0     │\n",
       "│ 8    │ 0            │ 0    │ 0                  │ 0                  │ 0     │\n",
       "│ 9    │ 0            │ 0    │ 0                  │ 0                  │ 0     │\n",
       "│ 10   │ 0            │ 0    │ 0                  │ 0                  │ 0     │\n",
       "│ 11   │ 0            │ 0    │ 0                  │ 0                  │ 0     │\n",
       "⋮\n",
       "│ 1788 │ 0            │ 1    │ 0                  │ 0                  │ 0     │\n",
       "│ 1789 │ 0            │ 0    │ 0                  │ 0                  │ 0     │\n",
       "│ 1790 │ 0            │ 0    │ 0                  │ 0                  │ 0     │\n",
       "│ 1791 │ 0            │ 0    │ 0                  │ 1                  │ 0     │\n",
       "│ 1792 │ 0            │ 0    │ 0                  │ 0                  │ 0     │\n",
       "│ 1793 │ 0            │ 0    │ 0                  │ 0                  │ 0     │\n",
       "│ 1794 │ 0            │ 0    │ 0                  │ 0                  │ 0     │\n",
       "│ 1795 │ 0            │ 0    │ 0                  │ 0                  │ 0     │\n",
       "│ 1796 │ 0            │ 0    │ 0                  │ 0                  │ 0     │\n",
       "│ 1797 │ 0            │ 0    │ 1                  │ 0                  │ 0     │\n",
       "│ 1798 │ 0            │ 0    │ 0                  │ 0                  │ 0     │\n",
       "│ 1799 │ 0            │ 0    │ 0                  │ 0                  │ 0     │\n",
       "\n",
       "│ Row  │ Forgery_Counterfeiting │ Embezzlement │ Homicide │\n",
       "├──────┼────────────────────────┼──────────────┼──────────┤\n",
       "│ 1    │ 0                      │ 0            │ 0        │\n",
       "│ 2    │ 0                      │ 0            │ 0        │\n",
       "│ 3    │ 0                      │ 0            │ 0        │\n",
       "│ 4    │ 0                      │ 0            │ 0        │\n",
       "│ 5    │ 0                      │ 1            │ 0        │\n",
       "│ 6    │ 1                      │ 0            │ 0        │\n",
       "│ 7    │ 0                      │ 0            │ 0        │\n",
       "│ 8    │ 0                      │ 0            │ 0        │\n",
       "│ 9    │ 0                      │ 0            │ 0        │\n",
       "│ 10   │ 0                      │ 0            │ 0        │\n",
       "│ 11   │ 0                      │ 0            │ 0        │\n",
       "⋮\n",
       "│ 1788 │ 0                      │ 0            │ 0        │\n",
       "│ 1789 │ 0                      │ 0            │ 0        │\n",
       "│ 1790 │ 0                      │ 0            │ 0        │\n",
       "│ 1791 │ 0                      │ 0            │ 0        │\n",
       "│ 1792 │ 0                      │ 0            │ 0        │\n",
       "│ 1793 │ 0                      │ 0            │ 0        │\n",
       "│ 1794 │ 0                      │ 0            │ 0        │\n",
       "│ 1795 │ 0                      │ 0            │ 0        │\n",
       "│ 1796 │ 0                      │ 0            │ 0        │\n",
       "│ 1797 │ 0                      │ 0            │ 0        │\n",
       "│ 1798 │ 0                      │ 0            │ 1        │\n",
       "│ 1799 │ 0                      │ 0            │ 0        │\n",
       "\n",
       "│ Row  │ Offenses_Against_Family_Children │ Gambling_Violations │\n",
       "├──────┼──────────────────────────────────┼─────────────────────┤\n",
       "│ 1    │ 0                                │ 0                   │\n",
       "│ 2    │ 0                                │ 0                   │\n",
       "│ 3    │ 0                                │ 0                   │\n",
       "│ 4    │ 0                                │ 0                   │\n",
       "│ 5    │ 0                                │ 0                   │\n",
       "│ 6    │ 0                                │ 0                   │\n",
       "│ 7    │ 0                                │ 0                   │\n",
       "│ 8    │ 0                                │ 1                   │\n",
       "│ 9    │ 0                                │ 0                   │\n",
       "│ 10   │ 1                                │ 0                   │\n",
       "│ 11   │ 0                                │ 0                   │\n",
       "⋮\n",
       "│ 1788 │ 0                                │ 0                   │\n",
       "│ 1789 │ 0                                │ 0                   │\n",
       "│ 1790 │ 0                                │ 0                   │\n",
       "│ 1791 │ 0                                │ 0                   │\n",
       "│ 1792 │ 0                                │ 0                   │\n",
       "│ 1793 │ 0                                │ 0                   │\n",
       "│ 1794 │ 0                                │ 0                   │\n",
       "│ 1795 │ 0                                │ 0                   │\n",
       "│ 1796 │ 0                                │ 0                   │\n",
       "│ 1797 │ 0                                │ 0                   │\n",
       "│ 1798 │ 0                                │ 0                   │\n",
       "│ 1799 │ 0                                │ 0                   │\n",
       "\n",
       "│ Row  │ Receiving_Stolen_Property │ Temperature_Max │ Temperature_Min │\n",
       "├──────┼───────────────────────────┼─────────────────┼─────────────────┤\n",
       "│ 1    │ 0                         │ 49.129          │ 32.3548         │\n",
       "│ 2    │ 0                         │ 49.129          │ 32.3548         │\n",
       "│ 3    │ 0                         │ 49.129          │ 32.3548         │\n",
       "│ 4    │ 0                         │ 49.129          │ 32.3548         │\n",
       "│ 5    │ 0                         │ 49.129          │ 32.3548         │\n",
       "│ 6    │ 0                         │ 49.129          │ 32.3548         │\n",
       "│ 7    │ 0                         │ 49.129          │ 32.3548         │\n",
       "│ 8    │ 0                         │ 49.129          │ 32.3548         │\n",
       "│ 9    │ 0                         │ 49.129          │ 32.3548         │\n",
       "│ 10   │ 0                         │ 49.129          │ 32.3548         │\n",
       "│ 11   │ 0                         │ 49.129          │ 32.3548         │\n",
       "⋮\n",
       "│ 1788 │ 0                         │ 51.3871         │ 35.1613         │\n",
       "│ 1789 │ 1                         │ 51.3871         │ 35.1613         │\n",
       "│ 1790 │ 0                         │ 51.3871         │ 35.1613         │\n",
       "│ 1791 │ 0                         │ 51.3871         │ 35.1613         │\n",
       "│ 1792 │ 0                         │ 51.3871         │ 35.1613         │\n",
       "│ 1793 │ 0                         │ 51.3871         │ 35.1613         │\n",
       "│ 1794 │ 0                         │ 51.3871         │ 35.1613         │\n",
       "│ 1795 │ 0                         │ 51.3871         │ 35.1613         │\n",
       "│ 1796 │ 0                         │ 51.3871         │ 35.1613         │\n",
       "│ 1797 │ 0                         │ 51.3871         │ 35.1613         │\n",
       "│ 1798 │ 0                         │ 51.3871         │ 35.1613         │\n",
       "│ 1799 │ 0                         │ 51.3871         │ 35.1613         │\n",
       "\n",
       "│ Row  │ Temperature_Avg │ Temperature_Departure │ HDD     │ CDD │\n",
       "├──────┼─────────────────┼───────────────────────┼─────────┼─────┤\n",
       "│ 1    │ 40.7419         │ 7.79355               │ 23.9677 │ 0.0 │\n",
       "│ 2    │ 40.7419         │ 7.79355               │ 23.9677 │ 0.0 │\n",
       "│ 3    │ 40.7419         │ 7.79355               │ 23.9677 │ 0.0 │\n",
       "│ 4    │ 40.7419         │ 7.79355               │ 23.9677 │ 0.0 │\n",
       "│ 5    │ 40.7419         │ 7.79355               │ 23.9677 │ 0.0 │\n",
       "│ 6    │ 40.7419         │ 7.79355               │ 23.9677 │ 0.0 │\n",
       "│ 7    │ 40.7419         │ 7.79355               │ 23.9677 │ 0.0 │\n",
       "│ 8    │ 40.7419         │ 7.79355               │ 23.9677 │ 0.0 │\n",
       "│ 9    │ 40.7419         │ 7.79355               │ 23.9677 │ 0.0 │\n",
       "│ 10   │ 40.7419         │ 7.79355               │ 23.9677 │ 0.0 │\n",
       "│ 11   │ 40.7419         │ 7.79355               │ 23.9677 │ 0.0 │\n",
       "⋮\n",
       "│ 1788 │ 43.2742         │ 5.82903               │ 21.5161 │ 0.0 │\n",
       "│ 1789 │ 43.2742         │ 5.82903               │ 21.5161 │ 0.0 │\n",
       "│ 1790 │ 43.2742         │ 5.82903               │ 21.5161 │ 0.0 │\n",
       "│ 1791 │ 43.2742         │ 5.82903               │ 21.5161 │ 0.0 │\n",
       "│ 1792 │ 43.2742         │ 5.82903               │ 21.5161 │ 0.0 │\n",
       "│ 1793 │ 43.2742         │ 5.82903               │ 21.5161 │ 0.0 │\n",
       "│ 1794 │ 43.2742         │ 5.82903               │ 21.5161 │ 0.0 │\n",
       "│ 1795 │ 43.2742         │ 5.82903               │ 21.5161 │ 0.0 │\n",
       "│ 1796 │ 43.2742         │ 5.82903               │ 21.5161 │ 0.0 │\n",
       "│ 1797 │ 43.2742         │ 5.82903               │ 21.5161 │ 0.0 │\n",
       "│ 1798 │ 43.2742         │ 5.82903               │ 21.5161 │ 0.0 │\n",
       "│ 1799 │ 43.2742         │ 5.82903               │ 21.5161 │ 0.0 │\n",
       "\n",
       "│ Row  │ Precipitation │ New_Snow  │ Snow_Depth │\n",
       "├──────┼───────────────┼───────────┼────────────┤\n",
       "│ 1    │ 0.14          │ 0.0129032 │ 0.0        │\n",
       "│ 2    │ 0.14          │ 0.0129032 │ 0.0        │\n",
       "│ 3    │ 0.14          │ 0.0129032 │ 0.0        │\n",
       "│ 4    │ 0.14          │ 0.0129032 │ 0.0        │\n",
       "│ 5    │ 0.14          │ 0.0129032 │ 0.0        │\n",
       "│ 6    │ 0.14          │ 0.0129032 │ 0.0        │\n",
       "│ 7    │ 0.14          │ 0.0129032 │ 0.0        │\n",
       "│ 8    │ 0.14          │ 0.0129032 │ 0.0        │\n",
       "│ 9    │ 0.14          │ 0.0129032 │ 0.0        │\n",
       "│ 10   │ 0.14          │ 0.0129032 │ 0.0        │\n",
       "│ 11   │ 0.14          │ 0.0129032 │ 0.0        │\n",
       "⋮\n",
       "│ 1788 │ 0.140968      │ 0.0       │ 0.0        │\n",
       "│ 1789 │ 0.140968      │ 0.0       │ 0.0        │\n",
       "│ 1790 │ 0.140968      │ 0.0       │ 0.0        │\n",
       "│ 1791 │ 0.140968      │ 0.0       │ 0.0        │\n",
       "│ 1792 │ 0.140968      │ 0.0       │ 0.0        │\n",
       "│ 1793 │ 0.140968      │ 0.0       │ 0.0        │\n",
       "│ 1794 │ 0.140968      │ 0.0       │ 0.0        │\n",
       "│ 1795 │ 0.140968      │ 0.0       │ 0.0        │\n",
       "│ 1796 │ 0.140968      │ 0.0       │ 0.0        │\n",
       "│ 1797 │ 0.140968      │ 0.0       │ 0.0        │\n",
       "│ 1798 │ 0.140968      │ 0.0       │ 0.0        │\n",
       "│ 1799 │ 0.140968      │ 0.0       │ 0.0        │"
      ]
     },
     "execution_count": 2,
     "metadata": {},
     "output_type": "execute_result"
    }
   ],
   "source": [
    "data = readtable(\"train_data.csv\")"
   ]
  },
  {
   "cell_type": "code",
   "execution_count": 3,
   "metadata": {
    "collapsed": false
   },
   "outputs": [
    {
     "data": {
      "text/plain": [
       "25-element DataArrays.DataArray{String,1}:\n",
       " \"All Other Offenses\"                     \n",
       " \"Arson\"                                  \n",
       " \"DRIVING UNDER THE INFLUENCE\"            \n",
       " \"Disorderly Conduct\"                     \n",
       " \"Embezzlement\"                           \n",
       " \"Forgery and Counterfeiting\"             \n",
       " \"Fraud\"                                  \n",
       " \"Gambling Violations\"                    \n",
       " \"Narcotic / Drug Law Violations\"         \n",
       " \"Offenses Against Family and Children\"   \n",
       " \"Other Assaults\"                         \n",
       " \"Other Sex Offenses (Not Commercialized)\"\n",
       " \"Prostitution and Commercialized Vice\"   \n",
       " \"Rape\"                                   \n",
       " \"Receiving Stolen Property\"              \n",
       " \"Recovered Stolen Motor Vehicle\"         \n",
       " \"Vagrancy/Loitering\"                     \n",
       " \"Vandalism/Criminal Mischief\"            \n",
       " \"Weapon Violations\"                      \n",
       " \"Thefts\"                                 \n",
       " \"Burglary\"                               \n",
       " \"Robbery\"                                \n",
       " \"Drinking Violation\"                     \n",
       " \"Homicide\"                               \n",
       " \"Aggravated Assault\"                     "
      ]
     },
     "execution_count": 3,
     "metadata": {},
     "output_type": "execute_result"
    }
   ],
   "source": [
    "months = [ i for i in 1:12]\n",
    "crimes = unique(data[2])"
   ]
  },
  {
   "cell_type": "code",
   "execution_count": 4,
   "metadata": {
    "collapsed": false
   },
   "outputs": [],
   "source": [
    "#create all possible combinations \n",
    "tuples = Array{Array{},1}()\n",
    "for crime in crimes\n",
    "    for month in months\n",
    "        push!(tuples, [crime, month])\n",
    "    end \n",
    "end"
   ]
  },
  {
   "cell_type": "code",
   "execution_count": 5,
   "metadata": {
    "collapsed": false
   },
   "outputs": [
    {
     "data": {
      "text/plain": [
       "300-element Array{Array,1}:\n",
       " Any[\"All Other Offenses\",1] \n",
       " Any[\"All Other Offenses\",2] \n",
       " Any[\"All Other Offenses\",3] \n",
       " Any[\"All Other Offenses\",4] \n",
       " Any[\"All Other Offenses\",5] \n",
       " Any[\"All Other Offenses\",6] \n",
       " Any[\"All Other Offenses\",7] \n",
       " Any[\"All Other Offenses\",8] \n",
       " Any[\"All Other Offenses\",9] \n",
       " Any[\"All Other Offenses\",10]\n",
       " Any[\"All Other Offenses\",11]\n",
       " Any[\"All Other Offenses\",12]\n",
       " Any[\"Arson\",1]              \n",
       " ⋮                           \n",
       " Any[\"Aggravated Assault\",1] \n",
       " Any[\"Aggravated Assault\",2] \n",
       " Any[\"Aggravated Assault\",3] \n",
       " Any[\"Aggravated Assault\",4] \n",
       " Any[\"Aggravated Assault\",5] \n",
       " Any[\"Aggravated Assault\",6] \n",
       " Any[\"Aggravated Assault\",7] \n",
       " Any[\"Aggravated Assault\",8] \n",
       " Any[\"Aggravated Assault\",9] \n",
       " Any[\"Aggravated Assault\",10]\n",
       " Any[\"Aggravated Assault\",11]\n",
       " Any[\"Aggravated Assault\",12]"
      ]
     },
     "execution_count": 5,
     "metadata": {},
     "output_type": "execute_result"
    }
   ],
   "source": [
    "tuples #300 element"
   ]
  },
  {
   "cell_type": "code",
   "execution_count": 6,
   "metadata": {
    "collapsed": false
   },
   "outputs": [],
   "source": [
    "test = []\n",
    "averages = zeros(300,2)\n",
    "#want to create an average for each month-type combination\n",
    "for row in eachrow(data)\n",
    "    #gets month \n",
    "    month = parse(split(row[:Month],\"-\")[2])\n",
    "    #gets type\n",
    "    crime = row[:Text_General_Code]\n",
    "    #use find to get index with corresponding month and crime\n",
    "    index = find(x -> x == [crime, month],tuples)[1]\n",
    "    #keeps count of appearances\n",
    "    averages[index,2] = averages[index,2] + 1\n",
    "    averages[index,1] = averages[index,1] + row[:x1]\n",
    "end "
   ]
  },
  {
   "cell_type": "code",
   "execution_count": 7,
   "metadata": {
    "collapsed": false
   },
   "outputs": [
    {
     "data": {
      "text/plain": [
       "300×2 Array{Float64,2}:\n",
       " 17288.0  6.0\n",
       " 16323.0  6.0\n",
       " 20456.0  6.0\n",
       " 21892.0  6.0\n",
       " 21127.0  6.0\n",
       " 24172.0  6.0\n",
       " 25587.0  6.0\n",
       " 26719.0  6.0\n",
       " 18014.0  6.0\n",
       " 17037.0  6.0\n",
       " 15552.0  6.0\n",
       " 14912.0  6.0\n",
       "   280.0  6.0\n",
       "     ⋮       \n",
       "  3977.0  6.0\n",
       "  3457.0  6.0\n",
       "  4545.0  6.0\n",
       "  4829.0  6.0\n",
       "  5242.0  6.0\n",
       "  5181.0  6.0\n",
       "  5388.0  6.0\n",
       "  5031.0  6.0\n",
       "  5038.0  6.0\n",
       "  4698.0  6.0\n",
       "  4049.0  6.0\n",
       "  4071.0  6.0"
      ]
     },
     "execution_count": 7,
     "metadata": {},
     "output_type": "execute_result"
    }
   ],
   "source": [
    "averages"
   ]
  },
  {
   "cell_type": "code",
   "execution_count": 8,
   "metadata": {
    "collapsed": false
   },
   "outputs": [
    {
     "data": {
      "text/plain": [
       "300-element Array{Float64,1}:\n",
       " 2881.33  \n",
       " 2720.5   \n",
       " 3409.33  \n",
       " 3648.67  \n",
       " 3521.17  \n",
       " 4028.67  \n",
       " 4264.5   \n",
       " 4453.17  \n",
       " 3002.33  \n",
       " 2839.5   \n",
       " 2592.0   \n",
       " 2485.33  \n",
       "   46.6667\n",
       "    ⋮     \n",
       "  662.833 \n",
       "  576.167 \n",
       "  757.5   \n",
       "  804.833 \n",
       "  873.667 \n",
       "  863.5   \n",
       "  898.0   \n",
       "  838.5   \n",
       "  839.667 \n",
       "  783.0   \n",
       "  674.833 \n",
       "  678.5   "
      ]
     },
     "execution_count": 8,
     "metadata": {},
     "output_type": "execute_result"
    }
   ],
   "source": [
    "avg = [averages[i,1]/averages[i,2] for i in 1:300]"
   ]
  },
  {
   "cell_type": "code",
   "execution_count": 9,
   "metadata": {
    "collapsed": false
   },
   "outputs": [
    {
     "data": {
      "text/html": [
       "<table class=\"data-frame\"><tr><th></th><th>Month_Number</th><th>Text_General_Code</th><th>Avg</th></tr><tr><th>1</th><td>1</td><td>All Other Offenses</td><td>2881.3333333333335</td></tr><tr><th>2</th><td>2</td><td>All Other Offenses</td><td>2720.5</td></tr><tr><th>3</th><td>3</td><td>All Other Offenses</td><td>3409.3333333333335</td></tr><tr><th>4</th><td>4</td><td>All Other Offenses</td><td>3648.6666666666665</td></tr><tr><th>5</th><td>5</td><td>All Other Offenses</td><td>3521.1666666666665</td></tr><tr><th>6</th><td>6</td><td>All Other Offenses</td><td>4028.6666666666665</td></tr><tr><th>7</th><td>7</td><td>All Other Offenses</td><td>4264.5</td></tr><tr><th>8</th><td>8</td><td>All Other Offenses</td><td>4453.166666666667</td></tr><tr><th>9</th><td>9</td><td>All Other Offenses</td><td>3002.3333333333335</td></tr><tr><th>10</th><td>10</td><td>All Other Offenses</td><td>2839.5</td></tr><tr><th>11</th><td>11</td><td>All Other Offenses</td><td>2592.0</td></tr><tr><th>12</th><td>12</td><td>All Other Offenses</td><td>2485.3333333333335</td></tr><tr><th>13</th><td>1</td><td>Arson</td><td>46.666666666666664</td></tr><tr><th>14</th><td>2</td><td>Arson</td><td>36.5</td></tr><tr><th>15</th><td>3</td><td>Arson</td><td>46.0</td></tr><tr><th>16</th><td>4</td><td>Arson</td><td>48.666666666666664</td></tr><tr><th>17</th><td>5</td><td>Arson</td><td>50.5</td></tr><tr><th>18</th><td>6</td><td>Arson</td><td>46.5</td></tr><tr><th>19</th><td>7</td><td>Arson</td><td>46.5</td></tr><tr><th>20</th><td>8</td><td>Arson</td><td>50.333333333333336</td></tr><tr><th>21</th><td>9</td><td>Arson</td><td>49.333333333333336</td></tr><tr><th>22</th><td>10</td><td>Arson</td><td>49.833333333333336</td></tr><tr><th>23</th><td>11</td><td>Arson</td><td>46.0</td></tr><tr><th>24</th><td>12</td><td>Arson</td><td>44.166666666666664</td></tr><tr><th>25</th><td>1</td><td>DRIVING UNDER THE INFLUENCE</td><td>449.0</td></tr><tr><th>26</th><td>2</td><td>DRIVING UNDER THE INFLUENCE</td><td>438.1666666666667</td></tr><tr><th>27</th><td>3</td><td>DRIVING UNDER THE INFLUENCE</td><td>499.0</td></tr><tr><th>28</th><td>4</td><td>DRIVING UNDER THE INFLUENCE</td><td>483.0</td></tr><tr><th>29</th><td>5</td><td>DRIVING UNDER THE INFLUENCE</td><td>449.1666666666667</td></tr><tr><th>30</th><td>6</td><td>DRIVING UNDER THE INFLUENCE</td><td>398.1666666666667</td></tr><tr><th>&vellip;</th><td>&vellip;</td><td>&vellip;</td><td>&vellip;</td></tr></table>"
      ],
      "text/plain": [
       "300×3 DataFrames.DataFrame\n",
       "│ Row │ Month_Number │ Text_General_Code    │ Avg     │\n",
       "├─────┼──────────────┼──────────────────────┼─────────┤\n",
       "│ 1   │ 1            │ \"All Other Offenses\" │ 2881.33 │\n",
       "│ 2   │ 2            │ \"All Other Offenses\" │ 2720.5  │\n",
       "│ 3   │ 3            │ \"All Other Offenses\" │ 3409.33 │\n",
       "│ 4   │ 4            │ \"All Other Offenses\" │ 3648.67 │\n",
       "│ 5   │ 5            │ \"All Other Offenses\" │ 3521.17 │\n",
       "│ 6   │ 6            │ \"All Other Offenses\" │ 4028.67 │\n",
       "│ 7   │ 7            │ \"All Other Offenses\" │ 4264.5  │\n",
       "│ 8   │ 8            │ \"All Other Offenses\" │ 4453.17 │\n",
       "│ 9   │ 9            │ \"All Other Offenses\" │ 3002.33 │\n",
       "│ 10  │ 10           │ \"All Other Offenses\" │ 2839.5  │\n",
       "│ 11  │ 11           │ \"All Other Offenses\" │ 2592.0  │\n",
       "⋮\n",
       "│ 289 │ 1            │ \"Aggravated Assault\" │ 662.833 │\n",
       "│ 290 │ 2            │ \"Aggravated Assault\" │ 576.167 │\n",
       "│ 291 │ 3            │ \"Aggravated Assault\" │ 757.5   │\n",
       "│ 292 │ 4            │ \"Aggravated Assault\" │ 804.833 │\n",
       "│ 293 │ 5            │ \"Aggravated Assault\" │ 873.667 │\n",
       "│ 294 │ 6            │ \"Aggravated Assault\" │ 863.5   │\n",
       "│ 295 │ 7            │ \"Aggravated Assault\" │ 898.0   │\n",
       "│ 296 │ 8            │ \"Aggravated Assault\" │ 838.5   │\n",
       "│ 297 │ 9            │ \"Aggravated Assault\" │ 839.667 │\n",
       "│ 298 │ 10           │ \"Aggravated Assault\" │ 783.0   │\n",
       "│ 299 │ 11           │ \"Aggravated Assault\" │ 674.833 │\n",
       "│ 300 │ 12           │ \"Aggravated Assault\" │ 678.5   │"
      ]
     },
     "execution_count": 9,
     "metadata": {},
     "output_type": "execute_result"
    }
   ],
   "source": [
    "crime = [tuples[i,1][1] for i in 1:300]\n",
    "month = [tuples[i,1][2] for i in 1:300]\n",
    "dataframe = DataFrame(Month_Number = month, Text_General_Code = crime, Avg = avg)"
   ]
  },
  {
   "cell_type": "markdown",
   "metadata": {},
   "source": []
  },
  {
   "cell_type": "code",
   "execution_count": 26,
   "metadata": {
    "collapsed": false
   },
   "outputs": [
    {
     "data": {
      "text/html": [
       "<table class=\"data-frame\"><tr><th></th><th>Month</th><th>Text_General_Code</th><th>x1</th><th>Month_Number</th></tr><tr><th>1</th><td>2006-01-01T00:00:00</td><td>All Other Offenses</td><td>4252</td><td>1</td></tr><tr><th>2</th><td>2006-01-01T00:00:00</td><td>Arson</td><td>44</td><td>1</td></tr><tr><th>3</th><td>2006-01-01T00:00:00</td><td>DRIVING UNDER THE INFLUENCE</td><td>425</td><td>1</td></tr><tr><th>4</th><td>2006-01-01T00:00:00</td><td>Disorderly Conduct</td><td>381</td><td>1</td></tr><tr><th>5</th><td>2006-01-01T00:00:00</td><td>Embezzlement</td><td>40</td><td>1</td></tr><tr><th>6</th><td>2006-01-01T00:00:00</td><td>Forgery and Counterfeiting</td><td>68</td><td>1</td></tr><tr><th>7</th><td>2006-01-01T00:00:00</td><td>Fraud</td><td>777</td><td>1</td></tr><tr><th>8</th><td>2006-01-01T00:00:00</td><td>Gambling Violations</td><td>9</td><td>1</td></tr><tr><th>9</th><td>2006-01-01T00:00:00</td><td>Narcotic / Drug Law Violations</td><td>1195</td><td>1</td></tr><tr><th>10</th><td>2006-01-01T00:00:00</td><td>Offenses Against Family and Children</td><td>20</td><td>1</td></tr><tr><th>11</th><td>2006-01-01T00:00:00</td><td>Other Assaults</td><td>2160</td><td>1</td></tr><tr><th>12</th><td>2006-01-01T00:00:00</td><td>Other Sex Offenses (Not Commercialized)</td><td>153</td><td>1</td></tr><tr><th>13</th><td>2006-01-01T00:00:00</td><td>Prostitution and Commercialized Vice</td><td>98</td><td>1</td></tr><tr><th>14</th><td>2006-01-01T00:00:00</td><td>Rape</td><td>96</td><td>1</td></tr><tr><th>15</th><td>2006-01-01T00:00:00</td><td>Receiving Stolen Property</td><td>14</td><td>1</td></tr><tr><th>16</th><td>2006-01-01T00:00:00</td><td>Recovered Stolen Motor Vehicle</td><td>993</td><td>1</td></tr><tr><th>17</th><td>2006-01-01T00:00:00</td><td>Vagrancy/Loitering</td><td>55</td><td>1</td></tr><tr><th>18</th><td>2006-01-01T00:00:00</td><td>Vandalism/Criminal Mischief</td><td>1895</td><td>1</td></tr><tr><th>19</th><td>2006-01-01T00:00:00</td><td>Weapon Violations</td><td>215</td><td>1</td></tr><tr><th>20</th><td>2006-01-01T00:00:00</td><td>Thefts</td><td>3644</td><td>1</td></tr><tr><th>21</th><td>2006-01-01T00:00:00</td><td>Burglary</td><td>906</td><td>1</td></tr><tr><th>22</th><td>2006-01-01T00:00:00</td><td>Robbery</td><td>869</td><td>1</td></tr><tr><th>23</th><td>2006-01-01T00:00:00</td><td>Drinking Violation</td><td>63</td><td>1</td></tr><tr><th>24</th><td>2006-01-01T00:00:00</td><td>Homicide</td><td>25</td><td>1</td></tr><tr><th>25</th><td>2006-01-01T00:00:00</td><td>Aggravated Assault</td><td>733</td><td>1</td></tr><tr><th>26</th><td>2006-02-01T00:00:00</td><td>All Other Offenses</td><td>3395</td><td>2</td></tr><tr><th>27</th><td>2006-02-01T00:00:00</td><td>Arson</td><td>40</td><td>2</td></tr><tr><th>28</th><td>2006-02-01T00:00:00</td><td>DRIVING UNDER THE INFLUENCE</td><td>395</td><td>2</td></tr><tr><th>29</th><td>2006-02-01T00:00:00</td><td>Disorderly Conduct</td><td>288</td><td>2</td></tr><tr><th>30</th><td>2006-02-01T00:00:00</td><td>Embezzlement</td><td>38</td><td>2</td></tr><tr><th>&vellip;</th><td>&vellip;</td><td>&vellip;</td><td>&vellip;</td><td>&vellip;</td></tr></table>"
      ],
      "text/plain": [
       "1799×4 DataFrames.DataFrame\n",
       "│ Row  │ Month                 │ Text_General_Code                      │ x1   │\n",
       "├──────┼───────────────────────┼────────────────────────────────────────┼──────┤\n",
       "│ 1    │ \"2006-01-01T00:00:00\" │ \"All Other Offenses\"                   │ 4252 │\n",
       "│ 2    │ \"2006-01-01T00:00:00\" │ \"Arson\"                                │ 44   │\n",
       "│ 3    │ \"2006-01-01T00:00:00\" │ \"DRIVING UNDER THE INFLUENCE\"          │ 425  │\n",
       "│ 4    │ \"2006-01-01T00:00:00\" │ \"Disorderly Conduct\"                   │ 381  │\n",
       "│ 5    │ \"2006-01-01T00:00:00\" │ \"Embezzlement\"                         │ 40   │\n",
       "│ 6    │ \"2006-01-01T00:00:00\" │ \"Forgery and Counterfeiting\"           │ 68   │\n",
       "│ 7    │ \"2006-01-01T00:00:00\" │ \"Fraud\"                                │ 777  │\n",
       "│ 8    │ \"2006-01-01T00:00:00\" │ \"Gambling Violations\"                  │ 9    │\n",
       "│ 9    │ \"2006-01-01T00:00:00\" │ \"Narcotic / Drug Law Violations\"       │ 1195 │\n",
       "│ 10   │ \"2006-01-01T00:00:00\" │ \"Offenses Against Family and Children\" │ 20   │\n",
       "│ 11   │ \"2006-01-01T00:00:00\" │ \"Other Assaults\"                       │ 2160 │\n",
       "⋮\n",
       "│ 1788 │ \"2011-12-01T00:00:00\" │ \"Rape\"                                 │ 74   │\n",
       "│ 1789 │ \"2011-12-01T00:00:00\" │ \"Receiving Stolen Property\"            │ 6    │\n",
       "│ 1790 │ \"2011-12-01T00:00:00\" │ \"Recovered Stolen Motor Vehicle\"       │ 407  │\n",
       "│ 1791 │ \"2011-12-01T00:00:00\" │ \"Vagrancy/Loitering\"                   │ 40   │\n",
       "│ 1792 │ \"2011-12-01T00:00:00\" │ \"Vandalism/Criminal Mischief\"          │ 1398 │\n",
       "│ 1793 │ \"2011-12-01T00:00:00\" │ \"Weapon Violations\"                    │ 171  │\n",
       "│ 1794 │ \"2011-12-01T00:00:00\" │ \"Thefts\"                               │ 3780 │\n",
       "│ 1795 │ \"2011-12-01T00:00:00\" │ \"Burglary\"                             │ 1048 │\n",
       "│ 1796 │ \"2011-12-01T00:00:00\" │ \"Robbery\"                              │ 764  │\n",
       "│ 1797 │ \"2011-12-01T00:00:00\" │ \"Drinking Violation\"                   │ 35   │\n",
       "│ 1798 │ \"2011-12-01T00:00:00\" │ \"Homicide\"                             │ 26   │\n",
       "│ 1799 │ \"2011-12-01T00:00:00\" │ \"Aggravated Assault\"                   │ 656  │\n",
       "\n",
       "│ Row  │ Month_Number │\n",
       "├──────┼──────────────┤\n",
       "│ 1    │ 1            │\n",
       "│ 2    │ 1            │\n",
       "│ 3    │ 1            │\n",
       "│ 4    │ 1            │\n",
       "│ 5    │ 1            │\n",
       "│ 6    │ 1            │\n",
       "│ 7    │ 1            │\n",
       "│ 8    │ 1            │\n",
       "│ 9    │ 1            │\n",
       "│ 10   │ 1            │\n",
       "│ 11   │ 1            │\n",
       "⋮\n",
       "│ 1788 │ 12           │\n",
       "│ 1789 │ 12           │\n",
       "│ 1790 │ 12           │\n",
       "│ 1791 │ 12           │\n",
       "│ 1792 │ 12           │\n",
       "│ 1793 │ 12           │\n",
       "│ 1794 │ 12           │\n",
       "│ 1795 │ 12           │\n",
       "│ 1796 │ 12           │\n",
       "│ 1797 │ 12           │\n",
       "│ 1798 │ 12           │\n",
       "│ 1799 │ 12           │"
      ]
     },
     "execution_count": 26,
     "metadata": {},
     "output_type": "execute_result"
    }
   ],
   "source": [
    "Month_Number = [parse(split(data[i,1],\"-\")[2])  for i in 1: length(data[1])]\n",
    "new_data = DataFrame(Month = data[:Month],  Text_General_Code = data[:Text_General_Code], x1 = data[:x1], Month_Number =Month_Number )"
   ]
  },
  {
   "cell_type": "code",
   "execution_count": 30,
   "metadata": {
    "collapsed": false
   },
   "outputs": [
    {
     "data": {
      "text/html": [
       "<table class=\"data-frame\"><tr><th></th><th>Month_Number</th><th>Text_General_Code</th><th>Avg</th><th>Month</th><th>x1</th></tr><tr><th>1</th><td>1</td><td>Aggravated Assault</td><td>662.8333333333334</td><td>2006-01-01T00:00:00</td><td>733</td></tr><tr><th>2</th><td>1</td><td>Aggravated Assault</td><td>662.8333333333334</td><td>2007-01-01T00:00:00</td><td>678</td></tr><tr><th>3</th><td>1</td><td>Aggravated Assault</td><td>662.8333333333334</td><td>2008-01-01T00:00:00</td><td>667</td></tr><tr><th>4</th><td>1</td><td>Aggravated Assault</td><td>662.8333333333334</td><td>2009-01-01T00:00:00</td><td>637</td></tr><tr><th>5</th><td>1</td><td>Aggravated Assault</td><td>662.8333333333334</td><td>2010-01-01T00:00:00</td><td>643</td></tr><tr><th>6</th><td>1</td><td>Aggravated Assault</td><td>662.8333333333334</td><td>2011-01-01T00:00:00</td><td>619</td></tr><tr><th>7</th><td>1</td><td>All Other Offenses</td><td>2881.3333333333335</td><td>2006-01-01T00:00:00</td><td>4252</td></tr><tr><th>8</th><td>1</td><td>All Other Offenses</td><td>2881.3333333333335</td><td>2007-01-01T00:00:00</td><td>3148</td></tr><tr><th>9</th><td>1</td><td>All Other Offenses</td><td>2881.3333333333335</td><td>2008-01-01T00:00:00</td><td>2891</td></tr><tr><th>10</th><td>1</td><td>All Other Offenses</td><td>2881.3333333333335</td><td>2009-01-01T00:00:00</td><td>2686</td></tr><tr><th>11</th><td>1</td><td>All Other Offenses</td><td>2881.3333333333335</td><td>2010-01-01T00:00:00</td><td>2488</td></tr><tr><th>12</th><td>1</td><td>All Other Offenses</td><td>2881.3333333333335</td><td>2011-01-01T00:00:00</td><td>1823</td></tr><tr><th>13</th><td>1</td><td>Arson</td><td>46.666666666666664</td><td>2006-01-01T00:00:00</td><td>44</td></tr><tr><th>14</th><td>1</td><td>Arson</td><td>46.666666666666664</td><td>2007-01-01T00:00:00</td><td>46</td></tr><tr><th>15</th><td>1</td><td>Arson</td><td>46.666666666666664</td><td>2008-01-01T00:00:00</td><td>66</td></tr><tr><th>16</th><td>1</td><td>Arson</td><td>46.666666666666664</td><td>2009-01-01T00:00:00</td><td>44</td></tr><tr><th>17</th><td>1</td><td>Arson</td><td>46.666666666666664</td><td>2010-01-01T00:00:00</td><td>42</td></tr><tr><th>18</th><td>1</td><td>Arson</td><td>46.666666666666664</td><td>2011-01-01T00:00:00</td><td>38</td></tr><tr><th>19</th><td>1</td><td>Burglary</td><td>950.8333333333334</td><td>2006-01-01T00:00:00</td><td>906</td></tr><tr><th>20</th><td>1</td><td>Burglary</td><td>950.8333333333334</td><td>2007-01-01T00:00:00</td><td>1005</td></tr><tr><th>21</th><td>1</td><td>Burglary</td><td>950.8333333333334</td><td>2008-01-01T00:00:00</td><td>1045</td></tr><tr><th>22</th><td>1</td><td>Burglary</td><td>950.8333333333334</td><td>2009-01-01T00:00:00</td><td>974</td></tr><tr><th>23</th><td>1</td><td>Burglary</td><td>950.8333333333334</td><td>2010-01-01T00:00:00</td><td>909</td></tr><tr><th>24</th><td>1</td><td>Burglary</td><td>950.8333333333334</td><td>2011-01-01T00:00:00</td><td>866</td></tr><tr><th>25</th><td>1</td><td>DRIVING UNDER THE INFLUENCE</td><td>449.0</td><td>2006-01-01T00:00:00</td><td>425</td></tr><tr><th>26</th><td>1</td><td>DRIVING UNDER THE INFLUENCE</td><td>449.0</td><td>2007-01-01T00:00:00</td><td>374</td></tr><tr><th>27</th><td>1</td><td>DRIVING UNDER THE INFLUENCE</td><td>449.0</td><td>2008-01-01T00:00:00</td><td>452</td></tr><tr><th>28</th><td>1</td><td>DRIVING UNDER THE INFLUENCE</td><td>449.0</td><td>2009-01-01T00:00:00</td><td>559</td></tr><tr><th>29</th><td>1</td><td>DRIVING UNDER THE INFLUENCE</td><td>449.0</td><td>2010-01-01T00:00:00</td><td>460</td></tr><tr><th>30</th><td>1</td><td>DRIVING UNDER THE INFLUENCE</td><td>449.0</td><td>2011-01-01T00:00:00</td><td>424</td></tr><tr><th>&vellip;</th><td>&vellip;</td><td>&vellip;</td><td>&vellip;</td><td>&vellip;</td><td>&vellip;</td></tr></table>"
      ],
      "text/plain": [
       "1799×5 DataFrames.DataFrame\n",
       "│ Row  │ Month_Number │ Text_General_Code             │ Avg     │\n",
       "├──────┼──────────────┼───────────────────────────────┼─────────┤\n",
       "│ 1    │ 1            │ \"Aggravated Assault\"          │ 662.833 │\n",
       "│ 2    │ 1            │ \"Aggravated Assault\"          │ 662.833 │\n",
       "│ 3    │ 1            │ \"Aggravated Assault\"          │ 662.833 │\n",
       "│ 4    │ 1            │ \"Aggravated Assault\"          │ 662.833 │\n",
       "│ 5    │ 1            │ \"Aggravated Assault\"          │ 662.833 │\n",
       "│ 6    │ 1            │ \"Aggravated Assault\"          │ 662.833 │\n",
       "│ 7    │ 1            │ \"All Other Offenses\"          │ 2881.33 │\n",
       "│ 8    │ 1            │ \"All Other Offenses\"          │ 2881.33 │\n",
       "│ 9    │ 1            │ \"All Other Offenses\"          │ 2881.33 │\n",
       "│ 10   │ 1            │ \"All Other Offenses\"          │ 2881.33 │\n",
       "│ 11   │ 1            │ \"All Other Offenses\"          │ 2881.33 │\n",
       "⋮\n",
       "│ 1788 │ 12           │ \"Vandalism/Criminal Mischief\" │ 1496.17 │\n",
       "│ 1789 │ 12           │ \"Vandalism/Criminal Mischief\" │ 1496.17 │\n",
       "│ 1790 │ 12           │ \"Vandalism/Criminal Mischief\" │ 1496.17 │\n",
       "│ 1791 │ 12           │ \"Vandalism/Criminal Mischief\" │ 1496.17 │\n",
       "│ 1792 │ 12           │ \"Vandalism/Criminal Mischief\" │ 1496.17 │\n",
       "│ 1793 │ 12           │ \"Vandalism/Criminal Mischief\" │ 1496.17 │\n",
       "│ 1794 │ 12           │ \"Weapon Violations\"           │ 161.667 │\n",
       "│ 1795 │ 12           │ \"Weapon Violations\"           │ 161.667 │\n",
       "│ 1796 │ 12           │ \"Weapon Violations\"           │ 161.667 │\n",
       "│ 1797 │ 12           │ \"Weapon Violations\"           │ 161.667 │\n",
       "│ 1798 │ 12           │ \"Weapon Violations\"           │ 161.667 │\n",
       "│ 1799 │ 12           │ \"Weapon Violations\"           │ 161.667 │\n",
       "\n",
       "│ Row  │ Month                 │ x1   │\n",
       "├──────┼───────────────────────┼──────┤\n",
       "│ 1    │ \"2006-01-01T00:00:00\" │ 733  │\n",
       "│ 2    │ \"2007-01-01T00:00:00\" │ 678  │\n",
       "│ 3    │ \"2008-01-01T00:00:00\" │ 667  │\n",
       "│ 4    │ \"2009-01-01T00:00:00\" │ 637  │\n",
       "│ 5    │ \"2010-01-01T00:00:00\" │ 643  │\n",
       "│ 6    │ \"2011-01-01T00:00:00\" │ 619  │\n",
       "│ 7    │ \"2006-01-01T00:00:00\" │ 4252 │\n",
       "│ 8    │ \"2007-01-01T00:00:00\" │ 3148 │\n",
       "│ 9    │ \"2008-01-01T00:00:00\" │ 2891 │\n",
       "│ 10   │ \"2009-01-01T00:00:00\" │ 2686 │\n",
       "│ 11   │ \"2010-01-01T00:00:00\" │ 2488 │\n",
       "⋮\n",
       "│ 1788 │ \"2006-12-01T00:00:00\" │ 1874 │\n",
       "│ 1789 │ \"2007-12-01T00:00:00\" │ 1743 │\n",
       "│ 1790 │ \"2008-12-01T00:00:00\" │ 1483 │\n",
       "│ 1791 │ \"2009-12-01T00:00:00\" │ 1269 │\n",
       "│ 1792 │ \"2010-12-01T00:00:00\" │ 1210 │\n",
       "│ 1793 │ \"2011-12-01T00:00:00\" │ 1398 │\n",
       "│ 1794 │ \"2006-12-01T00:00:00\" │ 181  │\n",
       "│ 1795 │ \"2007-12-01T00:00:00\" │ 162  │\n",
       "│ 1796 │ \"2008-12-01T00:00:00\" │ 169  │\n",
       "│ 1797 │ \"2009-12-01T00:00:00\" │ 153  │\n",
       "│ 1798 │ \"2010-12-01T00:00:00\" │ 134  │\n",
       "│ 1799 │ \"2011-12-01T00:00:00\" │ 171  │"
      ]
     },
     "execution_count": 30,
     "metadata": {},
     "output_type": "execute_result"
    }
   ],
   "source": [
    "joinedDataset = join(dataframe, new_data, on = [:Text_General_Code, :Month_Number])"
   ]
  },
  {
   "cell_type": "code",
   "execution_count": 32,
   "metadata": {
    "collapsed": false
   },
   "outputs": [
    {
     "data": {
      "text/plain": [
       "1799-element Array{Float64,1}:\n",
       " 1.10586 \n",
       " 1.02288 \n",
       " 1.00629 \n",
       " 0.961026\n",
       " 0.970078\n",
       " 0.93387 \n",
       " 1.47571 \n",
       " 1.09255 \n",
       " 1.00335 \n",
       " 0.932207\n",
       " 0.863489\n",
       " 0.632693\n",
       " 0.942857\n",
       " ⋮       \n",
       " 1.25253 \n",
       " 1.16498 \n",
       " 0.9912  \n",
       " 0.848168\n",
       " 0.808733\n",
       " 0.934388\n",
       " 1.11959 \n",
       " 1.00206 \n",
       " 1.04536 \n",
       " 0.946392\n",
       " 0.828866\n",
       " 1.05773 "
      ]
     },
     "execution_count": 32,
     "metadata": {},
     "output_type": "execute_result"
    }
   ],
   "source": [
    "joinedDataset[:deseasonalized] = map((x,y) -> x/y, joinedDataset[:x1], joinedDataset[:Avg])\n"
   ]
  },
  {
   "cell_type": "code",
   "execution_count": 33,
   "metadata": {
    "collapsed": false
   },
   "outputs": [
    {
     "data": {
      "text/html": [
       "<table class=\"data-frame\"><tr><th></th><th>Month_Number</th><th>Text_General_Code</th><th>Avg</th><th>Month</th><th>x1</th><th>deseasonalized</th></tr><tr><th>1</th><td>1</td><td>Aggravated Assault</td><td>662.8333333333334</td><td>2006-01-01T00:00:00</td><td>733</td><td>1.1058586874528538</td></tr><tr><th>2</th><td>1</td><td>Aggravated Assault</td><td>662.8333333333334</td><td>2007-01-01T00:00:00</td><td>678</td><td>1.0228815690218758</td></tr><tr><th>3</th><td>1</td><td>Aggravated Assault</td><td>662.8333333333334</td><td>2008-01-01T00:00:00</td><td>667</td><td>1.0062861453356802</td></tr><tr><th>4</th><td>1</td><td>Aggravated Assault</td><td>662.8333333333334</td><td>2009-01-01T00:00:00</td><td>637</td><td>0.961025898918783</td></tr><tr><th>5</th><td>1</td><td>Aggravated Assault</td><td>662.8333333333334</td><td>2010-01-01T00:00:00</td><td>643</td><td>0.9700779482021624</td></tr><tr><th>6</th><td>1</td><td>Aggravated Assault</td><td>662.8333333333334</td><td>2011-01-01T00:00:00</td><td>619</td><td>0.9338697510686447</td></tr><tr><th>7</th><td>1</td><td>All Other Offenses</td><td>2881.3333333333335</td><td>2006-01-01T00:00:00</td><td>4252</td><td>1.4757056918093474</td></tr><tr><th>8</th><td>1</td><td>All Other Offenses</td><td>2881.3333333333335</td><td>2007-01-01T00:00:00</td><td>3148</td><td>1.0925497454881998</td></tr><tr><th>9</th><td>1</td><td>All Other Offenses</td><td>2881.3333333333335</td><td>2008-01-01T00:00:00</td><td>2891</td><td>1.0033549282739471</td></tr><tr><th>10</th><td>1</td><td>All Other Offenses</td><td>2881.3333333333335</td><td>2009-01-01T00:00:00</td><td>2686</td><td>0.9322073114298935</td></tr><tr><th>11</th><td>1</td><td>All Other Offenses</td><td>2881.3333333333335</td><td>2010-01-01T00:00:00</td><td>2488</td><td>0.8634891254049051</td></tr><tr><th>12</th><td>1</td><td>All Other Offenses</td><td>2881.3333333333335</td><td>2011-01-01T00:00:00</td><td>1823</td><td>0.6326931975937066</td></tr><tr><th>13</th><td>1</td><td>Arson</td><td>46.666666666666664</td><td>2006-01-01T00:00:00</td><td>44</td><td>0.942857142857143</td></tr><tr><th>14</th><td>1</td><td>Arson</td><td>46.666666666666664</td><td>2007-01-01T00:00:00</td><td>46</td><td>0.9857142857142858</td></tr><tr><th>15</th><td>1</td><td>Arson</td><td>46.666666666666664</td><td>2008-01-01T00:00:00</td><td>66</td><td>1.4142857142857144</td></tr><tr><th>16</th><td>1</td><td>Arson</td><td>46.666666666666664</td><td>2009-01-01T00:00:00</td><td>44</td><td>0.942857142857143</td></tr><tr><th>17</th><td>1</td><td>Arson</td><td>46.666666666666664</td><td>2010-01-01T00:00:00</td><td>42</td><td>0.9</td></tr><tr><th>18</th><td>1</td><td>Arson</td><td>46.666666666666664</td><td>2011-01-01T00:00:00</td><td>38</td><td>0.8142857142857143</td></tr><tr><th>19</th><td>1</td><td>Burglary</td><td>950.8333333333334</td><td>2006-01-01T00:00:00</td><td>906</td><td>0.9528483786152497</td></tr><tr><th>20</th><td>1</td><td>Burglary</td><td>950.8333333333334</td><td>2007-01-01T00:00:00</td><td>1005</td><td>1.0569675723049956</td></tr><tr><th>21</th><td>1</td><td>Burglary</td><td>950.8333333333334</td><td>2008-01-01T00:00:00</td><td>1045</td><td>1.0990359333917616</td></tr><tr><th>22</th><td>1</td><td>Burglary</td><td>950.8333333333334</td><td>2009-01-01T00:00:00</td><td>974</td><td>1.024364592462752</td></tr><tr><th>23</th><td>1</td><td>Burglary</td><td>950.8333333333334</td><td>2010-01-01T00:00:00</td><td>909</td><td>0.9560035056967572</td></tr><tr><th>24</th><td>1</td><td>Burglary</td><td>950.8333333333334</td><td>2011-01-01T00:00:00</td><td>866</td><td>0.9107800175284837</td></tr><tr><th>25</th><td>1</td><td>DRIVING UNDER THE INFLUENCE</td><td>449.0</td><td>2006-01-01T00:00:00</td><td>425</td><td>0.9465478841870824</td></tr><tr><th>26</th><td>1</td><td>DRIVING UNDER THE INFLUENCE</td><td>449.0</td><td>2007-01-01T00:00:00</td><td>374</td><td>0.8329621380846325</td></tr><tr><th>27</th><td>1</td><td>DRIVING UNDER THE INFLUENCE</td><td>449.0</td><td>2008-01-01T00:00:00</td><td>452</td><td>1.0066815144766148</td></tr><tr><th>28</th><td>1</td><td>DRIVING UNDER THE INFLUENCE</td><td>449.0</td><td>2009-01-01T00:00:00</td><td>559</td><td>1.244988864142539</td></tr><tr><th>29</th><td>1</td><td>DRIVING UNDER THE INFLUENCE</td><td>449.0</td><td>2010-01-01T00:00:00</td><td>460</td><td>1.024498886414254</td></tr><tr><th>30</th><td>1</td><td>DRIVING UNDER THE INFLUENCE</td><td>449.0</td><td>2011-01-01T00:00:00</td><td>424</td><td>0.9443207126948775</td></tr><tr><th>&vellip;</th><td>&vellip;</td><td>&vellip;</td><td>&vellip;</td><td>&vellip;</td><td>&vellip;</td><td>&vellip;</td></tr></table>"
      ],
      "text/plain": [
       "1799×6 DataFrames.DataFrame\n",
       "│ Row  │ Month_Number │ Text_General_Code             │ Avg     │\n",
       "├──────┼──────────────┼───────────────────────────────┼─────────┤\n",
       "│ 1    │ 1            │ \"Aggravated Assault\"          │ 662.833 │\n",
       "│ 2    │ 1            │ \"Aggravated Assault\"          │ 662.833 │\n",
       "│ 3    │ 1            │ \"Aggravated Assault\"          │ 662.833 │\n",
       "│ 4    │ 1            │ \"Aggravated Assault\"          │ 662.833 │\n",
       "│ 5    │ 1            │ \"Aggravated Assault\"          │ 662.833 │\n",
       "│ 6    │ 1            │ \"Aggravated Assault\"          │ 662.833 │\n",
       "│ 7    │ 1            │ \"All Other Offenses\"          │ 2881.33 │\n",
       "│ 8    │ 1            │ \"All Other Offenses\"          │ 2881.33 │\n",
       "│ 9    │ 1            │ \"All Other Offenses\"          │ 2881.33 │\n",
       "│ 10   │ 1            │ \"All Other Offenses\"          │ 2881.33 │\n",
       "│ 11   │ 1            │ \"All Other Offenses\"          │ 2881.33 │\n",
       "⋮\n",
       "│ 1788 │ 12           │ \"Vandalism/Criminal Mischief\" │ 1496.17 │\n",
       "│ 1789 │ 12           │ \"Vandalism/Criminal Mischief\" │ 1496.17 │\n",
       "│ 1790 │ 12           │ \"Vandalism/Criminal Mischief\" │ 1496.17 │\n",
       "│ 1791 │ 12           │ \"Vandalism/Criminal Mischief\" │ 1496.17 │\n",
       "│ 1792 │ 12           │ \"Vandalism/Criminal Mischief\" │ 1496.17 │\n",
       "│ 1793 │ 12           │ \"Vandalism/Criminal Mischief\" │ 1496.17 │\n",
       "│ 1794 │ 12           │ \"Weapon Violations\"           │ 161.667 │\n",
       "│ 1795 │ 12           │ \"Weapon Violations\"           │ 161.667 │\n",
       "│ 1796 │ 12           │ \"Weapon Violations\"           │ 161.667 │\n",
       "│ 1797 │ 12           │ \"Weapon Violations\"           │ 161.667 │\n",
       "│ 1798 │ 12           │ \"Weapon Violations\"           │ 161.667 │\n",
       "│ 1799 │ 12           │ \"Weapon Violations\"           │ 161.667 │\n",
       "\n",
       "│ Row  │ Month                 │ x1   │ deseasonalized │\n",
       "├──────┼───────────────────────┼──────┼────────────────┤\n",
       "│ 1    │ \"2006-01-01T00:00:00\" │ 733  │ 1.10586        │\n",
       "│ 2    │ \"2007-01-01T00:00:00\" │ 678  │ 1.02288        │\n",
       "│ 3    │ \"2008-01-01T00:00:00\" │ 667  │ 1.00629        │\n",
       "│ 4    │ \"2009-01-01T00:00:00\" │ 637  │ 0.961026       │\n",
       "│ 5    │ \"2010-01-01T00:00:00\" │ 643  │ 0.970078       │\n",
       "│ 6    │ \"2011-01-01T00:00:00\" │ 619  │ 0.93387        │\n",
       "│ 7    │ \"2006-01-01T00:00:00\" │ 4252 │ 1.47571        │\n",
       "│ 8    │ \"2007-01-01T00:00:00\" │ 3148 │ 1.09255        │\n",
       "│ 9    │ \"2008-01-01T00:00:00\" │ 2891 │ 1.00335        │\n",
       "│ 10   │ \"2009-01-01T00:00:00\" │ 2686 │ 0.932207       │\n",
       "│ 11   │ \"2010-01-01T00:00:00\" │ 2488 │ 0.863489       │\n",
       "⋮\n",
       "│ 1788 │ \"2006-12-01T00:00:00\" │ 1874 │ 1.25253        │\n",
       "│ 1789 │ \"2007-12-01T00:00:00\" │ 1743 │ 1.16498        │\n",
       "│ 1790 │ \"2008-12-01T00:00:00\" │ 1483 │ 0.9912         │\n",
       "│ 1791 │ \"2009-12-01T00:00:00\" │ 1269 │ 0.848168       │\n",
       "│ 1792 │ \"2010-12-01T00:00:00\" │ 1210 │ 0.808733       │\n",
       "│ 1793 │ \"2011-12-01T00:00:00\" │ 1398 │ 0.934388       │\n",
       "│ 1794 │ \"2006-12-01T00:00:00\" │ 181  │ 1.11959        │\n",
       "│ 1795 │ \"2007-12-01T00:00:00\" │ 162  │ 1.00206        │\n",
       "│ 1796 │ \"2008-12-01T00:00:00\" │ 169  │ 1.04536        │\n",
       "│ 1797 │ \"2009-12-01T00:00:00\" │ 153  │ 0.946392       │\n",
       "│ 1798 │ \"2010-12-01T00:00:00\" │ 134  │ 0.828866       │\n",
       "│ 1799 │ \"2011-12-01T00:00:00\" │ 171  │ 1.05773        │"
      ]
     },
     "execution_count": 33,
     "metadata": {},
     "output_type": "execute_result"
    }
   ],
   "source": [
    "joinedDataset"
   ]
  },
  {
   "cell_type": "code",
   "execution_count": 19,
   "metadata": {
    "collapsed": false
   },
   "outputs": [
    {
     "data": {
      "text/plain": [
       "1"
      ]
     },
     "execution_count": 19,
     "metadata": {},
     "output_type": "execute_result"
    }
   ],
   "source": [
    "parse(split(\"2006-01-01T00:00:00\",\"-\")[2])"
   ]
  },
  {
   "cell_type": "code",
   "execution_count": 56,
   "metadata": {
    "collapsed": false
   },
   "outputs": [
    {
     "data": {
      "text/plain": [
       "7-element Array{Int64,1}:\n",
       " 1\n",
       " 2\n",
       " 3\n",
       " 4\n",
       " 5\n",
       " 1\n",
       " 2"
      ]
     },
     "execution_count": 56,
     "metadata": {},
     "output_type": "execute_result"
    }
   ],
   "source": [
    "a = [1,2,3,4,5,1,2]"
   ]
  },
  {
   "cell_type": "code",
   "execution_count": 57,
   "metadata": {
    "collapsed": false
   },
   "outputs": [
    {
     "data": {
      "text/plain": [
       "2-element Array{Int64,1}:\n",
       " 1\n",
       " 6"
      ]
     },
     "execution_count": 57,
     "metadata": {},
     "output_type": "execute_result"
    }
   ],
   "source": [
    "find(x -> x ==1,a) #rturns indices where condition is satisfied"
   ]
  },
  {
   "cell_type": "code",
   "execution_count": 58,
   "metadata": {
    "collapsed": false
   },
   "outputs": [
    {
     "data": {
      "text/plain": [
       "3-element Array{Array{Int64,1},1}:\n",
       " [1,2]\n",
       " [3,4]\n",
       " [5,6]"
      ]
     },
     "execution_count": 58,
     "metadata": {},
     "output_type": "execute_result"
    }
   ],
   "source": [
    "a = [[1,2], [3,4], [5,6]]"
   ]
  },
  {
   "cell_type": "code",
   "execution_count": 59,
   "metadata": {
    "collapsed": false
   },
   "outputs": [
    {
     "data": {
      "text/plain": [
       "1-element Array{Int64,1}:\n",
       " 2"
      ]
     },
     "execution_count": 59,
     "metadata": {},
     "output_type": "execute_result"
    }
   ],
   "source": [
    "find(x -> x == [3,4],a) "
   ]
  },
  {
   "cell_type": "code",
   "execution_count": null,
   "metadata": {
    "collapsed": true
   },
   "outputs": [],
   "source": []
  }
 ],
 "metadata": {
  "anaconda-cloud": {},
  "kernelspec": {
   "display_name": "Julia 0.5.0",
   "language": "julia",
   "name": "julia-0.5"
  },
  "language_info": {
   "file_extension": ".jl",
   "mimetype": "application/julia",
   "name": "julia",
   "version": "0.5.0"
  }
 },
 "nbformat": 4,
 "nbformat_minor": 1
}
